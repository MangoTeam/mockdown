{
 "cells": [
  {
   "cell_type": "code",
   "execution_count": 1,
   "metadata": {},
   "outputs": [],
   "source": [
    "%reload_ext autoreload\n",
    "%autoreload 2"
   ]
  },
  {
   "cell_type": "code",
   "execution_count": 2,
   "metadata": {},
   "outputs": [],
   "source": [
    "from IPython.core.display import display, HTML\n",
    "from IPython.lib.pretty import pprint\n",
    "from itertools import chain, tee"
   ]
  },
  {
   "cell_type": "code",
   "execution_count": 3,
   "metadata": {},
   "outputs": [],
   "source": [
    "from mockdown.model import View"
   ]
  },
  {
   "cell_type": "code",
   "execution_count": 4,
   "metadata": {
    "jupyter": {
     "source_hidden": true
    }
   },
   "outputs": [
    {
     "data": {
      "text/html": [
       "\n",
       "<style>\n",
       ".rainbow-text {\n",
       "  background-image: repeating-linear-gradient(45deg, violet, indigo, blue, green, yellow, orange, red, violet);\n",
       "  text-align: center;\n",
       "  background-size: 800% 800%;\n",
       "  -webkit-background-clip: text;\n",
       "  -webkit-text-fill-color: transparent;\n",
       "  animation: rainbow 4s ease infinite;\n",
       "}\n",
       "\n",
       "@keyframes rainbow { \n",
       "    0%{background-position:0% 50%}\n",
       "    50%{background-position:100% 25%}\n",
       "    100%{background-position:0% 50%}\n",
       "}\n",
       "</style>\n"
      ],
      "text/plain": [
       "<IPython.core.display.HTML object>"
      ]
     },
     "execution_count": 4,
     "metadata": {},
     "output_type": "execute_result"
    }
   ],
   "source": [
    "# Gratuitous rainbow bullshit.\n",
    "\n",
    "HTML(\"\"\"\n",
    "<style>\n",
    ".rainbow-text {\n",
    "  background-image: repeating-linear-gradient(45deg, violet, indigo, blue, green, yellow, orange, red, violet);\n",
    "  text-align: center;\n",
    "  background-size: 800% 800%;\n",
    "  -webkit-background-clip: text;\n",
    "  -webkit-text-fill-color: transparent;\n",
    "  animation: rainbow 4s ease infinite;\n",
    "}\n",
    "\n",
    "@keyframes rainbow { \n",
    "    0%{background-position:0% 50%}\n",
    "    50%{background-position:100% 25%}\n",
    "    100%{background-position:0% 50%}\n",
    "}\n",
    "</style>\n",
    "\"\"\")"
   ]
  },
  {
   "cell_type": "markdown",
   "metadata": {},
   "source": [
    "# Building a View\n",
    "\n",
    "Always use the `ViewBuilder` class to construct views. This is necessary as we internally keep both `children` and `parent` links, and `View` is a frozen (immutable) dataclass. \n",
    "\n",
    "`ViewBuilder` performs some arcane unsafe voodoo to sidestep frozenness and recursively build a doubly-linked tree that `View.__init__` cannot sanely do. \n",
    "\n",
    "It also performs more aggressive validation and implements some ✨ <span class=\"rainbow-text\">DSL MAGIC</span> ✨."
   ]
  },
  {
   "cell_type": "code",
   "execution_count": 14,
   "metadata": {},
   "outputs": [],
   "source": [
    "from mockdown.model.view import ViewBuilder as V\n",
    "\n",
    "sample_view = V(\"p\", (0, 0, 100, 100), [\n",
    "    (\"a1\", (10, 10, 45, 90), [\n",
    "        V(\"b11\", (20, 20, 35, 45)),\n",
    "        V(\"b12\", (20, 55, 35, 80))\n",
    "    ]),\n",
    "    (\"a2\", (55, 10, 90, 90), [\n",
    "        V(\"b21\", (65, 20, 80, 45)),\n",
    "        V(\"b22\", (65, 55, 80, 80))\n",
    "    ])\n",
    "]).to_view()"
   ]
  },
  {
   "cell_type": "markdown",
   "metadata": {},
   "source": [
    "# Displaying Views\n",
    "\n",
    "The `display_view` utility method can be used to display a visual representation of a view hierarchy. \n",
    "\n",
    "This method optionally takes `visible_pairs` and `constraints` keyword arguments. If either of these are provided, they will be overlayed. "
   ]
  },
  {
   "cell_type": "code",
   "execution_count": 6,
   "metadata": {},
   "outputs": [
    {
     "data": {
      "text/html": [
       "<div id=\"container\" style=\"font-size: 10px;position: relative;width:  300px;height: 300px;\">\n",
       "  <div id=\"p\" style=\"position: absolute;box-sizing: border-box;border: 1px solid black;left:   0px;right:  300px;top:    0px;bottom: 300px;height: 300px;width:  300px;\">\n",
       "    <span style=\"position: absolute;left: 5px;top: 5px;\">p</span>\n",
       "  </div>\n",
       "  <div id=\"a1\" style=\"position: absolute;box-sizing: border-box;border: 1px solid black;left:   30px;right:  135px;top:    30px;bottom: 270px;height: 240px;width:  105px;\">\n",
       "    <span style=\"position: absolute;left: 5px;top: 5px;\">a1</span>\n",
       "  </div>\n",
       "  <div id=\"b11\" style=\"position: absolute;box-sizing: border-box;border: 1px solid black;left:   60px;right:  105px;top:    60px;bottom: 135px;height: 75px;width:  45px;\">\n",
       "    <span style=\"position: absolute;left: 5px;top: 5px;\">b11</span>\n",
       "  </div>\n",
       "  <div id=\"b12\" style=\"position: absolute;box-sizing: border-box;border: 1px solid black;left:   60px;right:  105px;top:    165px;bottom: 240px;height: 75px;width:  45px;\">\n",
       "    <span style=\"position: absolute;left: 5px;top: 5px;\">b12</span>\n",
       "  </div>\n",
       "  <div id=\"a2\" style=\"position: absolute;box-sizing: border-box;border: 1px solid black;left:   165px;right:  270px;top:    30px;bottom: 270px;height: 240px;width:  105px;\">\n",
       "    <span style=\"position: absolute;left: 5px;top: 5px;\">a2</span>\n",
       "  </div>\n",
       "  <div id=\"b21\" style=\"position: absolute;box-sizing: border-box;border: 1px solid black;left:   195px;right:  240px;top:    60px;bottom: 135px;height: 75px;width:  45px;\">\n",
       "    <span style=\"position: absolute;left: 5px;top: 5px;\">b21</span>\n",
       "  </div>\n",
       "  <div id=\"b22\" style=\"position: absolute;box-sizing: border-box;border: 1px solid black;left:   195px;right:  240px;top:    165px;bottom: 240px;height: 75px;width:  45px;\">\n",
       "    <span style=\"position: absolute;left: 5px;top: 5px;\">b22</span>\n",
       "  </div>\n",
       "</div>"
      ],
      "text/plain": [
       "<IPython.core.display.HTML object>"
      ]
     },
     "metadata": {},
     "output_type": "display_data"
    }
   ],
   "source": [
    "from mockdown.display.view import display_view\n",
    "\n",
    "html_str = str(display_view(sample_view[0], scale=3))\n",
    "display(HTML(html_str))"
   ]
  },
  {
   "cell_type": "code",
   "execution_count": 7,
   "metadata": {},
   "outputs": [],
   "source": [
    "from mockdown.visibility import visible_pairs\n",
    "\n",
    "edge_pairs = visible_pairs(sample_view, deep=True)\n",
    "anchor_pairs = [(e1.anchor, e2.anchor) for (e1, e2) in edge_pairs]"
   ]
  },
  {
   "cell_type": "code",
   "execution_count": 8,
   "metadata": {},
   "outputs": [
    {
     "data": {
      "text/html": [
       "<div id=\"container\" style=\"font-size: 10px;position: relative;width:  300px;height: 300px;\">\n",
       "  <div id=\"p\" style=\"position: absolute;box-sizing: border-box;border: 1px solid black;left:   0px;right:  300px;top:    0px;bottom: 300px;height: 300px;width:  300px;\">\n",
       "    <span style=\"position: absolute;left: 5px;top: 5px;\">p</span>\n",
       "  </div>\n",
       "  <div id=\"a1\" style=\"position: absolute;box-sizing: border-box;border: 1px solid black;left:   30px;right:  135px;top:    30px;bottom: 270px;height: 240px;width:  105px;\">\n",
       "    <span style=\"position: absolute;left: 5px;top: 5px;\">a1</span>\n",
       "  </div>\n",
       "  <div id=\"b11\" style=\"position: absolute;box-sizing: border-box;border: 1px solid black;left:   60px;right:  105px;top:    60px;bottom: 135px;height: 75px;width:  45px;\">\n",
       "    <span style=\"position: absolute;left: 5px;top: 5px;\">b11</span>\n",
       "  </div>\n",
       "  <div id=\"b12\" style=\"position: absolute;box-sizing: border-box;border: 1px solid black;left:   60px;right:  105px;top:    165px;bottom: 240px;height: 75px;width:  45px;\">\n",
       "    <span style=\"position: absolute;left: 5px;top: 5px;\">b12</span>\n",
       "  </div>\n",
       "  <div id=\"a2\" style=\"position: absolute;box-sizing: border-box;border: 1px solid black;left:   165px;right:  270px;top:    30px;bottom: 270px;height: 240px;width:  105px;\">\n",
       "    <span style=\"position: absolute;left: 5px;top: 5px;\">a2</span>\n",
       "  </div>\n",
       "  <div id=\"b21\" style=\"position: absolute;box-sizing: border-box;border: 1px solid black;left:   195px;right:  240px;top:    60px;bottom: 135px;height: 75px;width:  45px;\">\n",
       "    <span style=\"position: absolute;left: 5px;top: 5px;\">b21</span>\n",
       "  </div>\n",
       "  <div id=\"b22\" style=\"position: absolute;box-sizing: border-box;border: 1px solid black;left:   195px;right:  240px;top:    165px;bottom: 240px;height: 75px;width:  45px;\">\n",
       "    <span style=\"position: absolute;left: 5px;top: 5px;\">b22</span>\n",
       "  </div>\n",
       "  <div id=\"p.Attribute.TOP-a1.Attribute.TOP\" style=\"position: absolute;box-sizing: border-box;border: 0.5px dashed red;left:   82.5px;right:  82.5px;top:    0px;bottom: 30px;width:   1px;height: 30px;\"></div>\n",
       "  <div id=\"a1.Attribute.BOTTOM-p.Attribute.BOTTOM\" style=\"position: absolute;box-sizing: border-box;border: 0.5px dashed red;left:   82.5px;right:  82.5px;top:    270px;bottom: 300px;width:   1px;height: 30px;\"></div>\n",
       "  <div id=\"p.Attribute.TOP-a2.Attribute.TOP\" style=\"position: absolute;box-sizing: border-box;border: 0.5px dashed red;left:   217.5px;right:  217.5px;top:    0px;bottom: 30px;width:   1px;height: 30px;\"></div>\n",
       "  <div id=\"a2.Attribute.BOTTOM-p.Attribute.BOTTOM\" style=\"position: absolute;box-sizing: border-box;border: 0.5px dashed red;left:   217.5px;right:  217.5px;top:    270px;bottom: 300px;width:   1px;height: 30px;\"></div>\n",
       "  <div id=\"p.Attribute.LEFT-a1.Attribute.LEFT\" style=\"position: absolute;box-sizing: border-box;border: 0.5px dashed red;left:   0px;right:  30px;top:    150.0px;bottom: 150.0px;width:  30px;height:  1px;\"></div>\n",
       "  <div id=\"a1.Attribute.RIGHT-a2.Attribute.LEFT\" style=\"position: absolute;box-sizing: border-box;border: 0.5px dashed red;left:   135px;right:  165px;top:    150.0px;bottom: 150.0px;width:  30px;height:  1px;\"></div>\n",
       "  <div id=\"a2.Attribute.RIGHT-p.Attribute.RIGHT\" style=\"position: absolute;box-sizing: border-box;border: 0.5px dashed red;left:   270px;right:  300px;top:    150.0px;bottom: 150.0px;width:  30px;height:  1px;\"></div>\n",
       "  <div id=\"a1.Attribute.TOP-b11.Attribute.TOP\" style=\"position: absolute;box-sizing: border-box;border: 0.5px dashed red;left:   82.5px;right:  82.5px;top:    30px;bottom: 60px;width:   1px;height: 30px;\"></div>\n",
       "  <div id=\"b11.Attribute.BOTTOM-b12.Attribute.TOP\" style=\"position: absolute;box-sizing: border-box;border: 0.5px dashed red;left:   82.5px;right:  82.5px;top:    135px;bottom: 165px;width:   1px;height: 30px;\"></div>\n",
       "  <div id=\"b12.Attribute.BOTTOM-a1.Attribute.BOTTOM\" style=\"position: absolute;box-sizing: border-box;border: 0.5px dashed red;left:   82.5px;right:  82.5px;top:    240px;bottom: 270px;width:   1px;height: 30px;\"></div>\n",
       "  <div id=\"a1.Attribute.LEFT-b11.Attribute.LEFT\" style=\"position: absolute;box-sizing: border-box;border: 0.5px dashed red;left:   30px;right:  60px;top:    97.5px;bottom: 97.5px;width:  30px;height:  1px;\"></div>\n",
       "  <div id=\"b11.Attribute.RIGHT-a1.Attribute.RIGHT\" style=\"position: absolute;box-sizing: border-box;border: 0.5px dashed red;left:   105px;right:  135px;top:    97.5px;bottom: 97.5px;width:  30px;height:  1px;\"></div>\n",
       "  <div id=\"a1.Attribute.LEFT-b12.Attribute.LEFT\" style=\"position: absolute;box-sizing: border-box;border: 0.5px dashed red;left:   30px;right:  60px;top:    202.5px;bottom: 202.5px;width:  30px;height:  1px;\"></div>\n",
       "  <div id=\"b12.Attribute.RIGHT-a1.Attribute.RIGHT\" style=\"position: absolute;box-sizing: border-box;border: 0.5px dashed red;left:   105px;right:  135px;top:    202.5px;bottom: 202.5px;width:  30px;height:  1px;\"></div>\n",
       "  <div id=\"a2.Attribute.TOP-b21.Attribute.TOP\" style=\"position: absolute;box-sizing: border-box;border: 0.5px dashed red;left:   217.5px;right:  217.5px;top:    30px;bottom: 60px;width:   1px;height: 30px;\"></div>\n",
       "  <div id=\"b21.Attribute.BOTTOM-b22.Attribute.TOP\" style=\"position: absolute;box-sizing: border-box;border: 0.5px dashed red;left:   217.5px;right:  217.5px;top:    135px;bottom: 165px;width:   1px;height: 30px;\"></div>\n",
       "  <div id=\"b22.Attribute.BOTTOM-a2.Attribute.BOTTOM\" style=\"position: absolute;box-sizing: border-box;border: 0.5px dashed red;left:   217.5px;right:  217.5px;top:    240px;bottom: 270px;width:   1px;height: 30px;\"></div>\n",
       "  <div id=\"a2.Attribute.LEFT-b21.Attribute.LEFT\" style=\"position: absolute;box-sizing: border-box;border: 0.5px dashed red;left:   165px;right:  195px;top:    97.5px;bottom: 97.5px;width:  30px;height:  1px;\"></div>\n",
       "  <div id=\"b21.Attribute.RIGHT-a2.Attribute.RIGHT\" style=\"position: absolute;box-sizing: border-box;border: 0.5px dashed red;left:   240px;right:  270px;top:    97.5px;bottom: 97.5px;width:  30px;height:  1px;\"></div>\n",
       "  <div id=\"a2.Attribute.LEFT-b22.Attribute.LEFT\" style=\"position: absolute;box-sizing: border-box;border: 0.5px dashed red;left:   165px;right:  195px;top:    202.5px;bottom: 202.5px;width:  30px;height:  1px;\"></div>\n",
       "  <div id=\"b22.Attribute.RIGHT-a2.Attribute.RIGHT\" style=\"position: absolute;box-sizing: border-box;border: 0.5px dashed red;left:   240px;right:  270px;top:    202.5px;bottom: 202.5px;width:  30px;height:  1px;\"></div>\n",
       "</div>"
      ],
      "text/plain": [
       "<IPython.core.display.HTML object>"
      ]
     },
     "metadata": {},
     "output_type": "display_data"
    }
   ],
   "source": [
    "html_str = str(display_view(sample_view, visible_pairs=edge_pairs, scale=3))\n",
    "display(HTML(html_str))"
   ]
  },
  {
   "cell_type": "code",
   "execution_count": 9,
   "metadata": {},
   "outputs": [
    {
     "name": "stdout",
     "output_type": "stream",
     "text": [
      "a2.left ≤ a1.right (priority=1000, samples=0, kind=spacing)\n",
      "a2.left ≥ a1.right (priority=1000, samples=0, kind=spacing)\n",
      "b12.top ≤ b11.bottom (priority=1000, samples=0, kind=spacing)\n",
      "b12.top ≥ b11.bottom (priority=1000, samples=0, kind=spacing)\n",
      "b22.top ≤ b21.bottom (priority=1000, samples=0, kind=spacing)\n",
      "b22.top ≥ b21.bottom (priority=1000, samples=0, kind=spacing)\n",
      "a1.top ≤ p.top (priority=1000, samples=0, kind=spacing)\n",
      "a1.top ≥ p.top (priority=1000, samples=0, kind=spacing)\n",
      "a1.left ≤ p.left (priority=1000, samples=0, kind=spacing)\n",
      "a1.left ≥ p.left (priority=1000, samples=0, kind=spacing)\n",
      "...\n"
     ]
    }
   ],
   "source": [
    "from mockdown.logic import valid_constraints\n",
    "constraints = list(valid_constraints(sample_view, anchor_pairs))\n",
    "\n",
    "for constraint in constraints[0:10]:\n",
    "    print(str(constraint))\n",
    "print(\"...\")"
   ]
  },
  {
   "cell_type": "code",
   "execution_count": 10,
   "metadata": {},
   "outputs": [
    {
     "data": {
      "text/html": [
       "<div id=\"container\" style=\"font-size: 10px;position: relative;width:  300px;height: 300px;\">\n",
       "  <div id=\"p\" style=\"position: absolute;box-sizing: border-box;border: 1px solid black;left:   0px;right:  300px;top:    0px;bottom: 300px;height: 300px;width:  300px;\">\n",
       "    <span style=\"position: absolute;left: 5px;top: 5px;\">p</span>\n",
       "  </div>\n",
       "  <div id=\"a1\" style=\"position: absolute;box-sizing: border-box;border: 1px solid black;left:   30px;right:  135px;top:    30px;bottom: 270px;height: 240px;width:  105px;\">\n",
       "    <span style=\"position: absolute;left: 5px;top: 5px;\">a1</span>\n",
       "  </div>\n",
       "  <div id=\"b11\" style=\"position: absolute;box-sizing: border-box;border: 1px solid black;left:   60px;right:  105px;top:    60px;bottom: 135px;height: 75px;width:  45px;\">\n",
       "    <span style=\"position: absolute;left: 5px;top: 5px;\">b11</span>\n",
       "  </div>\n",
       "  <div id=\"b12\" style=\"position: absolute;box-sizing: border-box;border: 1px solid black;left:   60px;right:  105px;top:    165px;bottom: 240px;height: 75px;width:  45px;\">\n",
       "    <span style=\"position: absolute;left: 5px;top: 5px;\">b12</span>\n",
       "  </div>\n",
       "  <div id=\"a2\" style=\"position: absolute;box-sizing: border-box;border: 1px solid black;left:   165px;right:  270px;top:    30px;bottom: 270px;height: 240px;width:  105px;\">\n",
       "    <span style=\"position: absolute;left: 5px;top: 5px;\">a2</span>\n",
       "  </div>\n",
       "  <div id=\"b21\" style=\"position: absolute;box-sizing: border-box;border: 1px solid black;left:   195px;right:  240px;top:    60px;bottom: 135px;height: 75px;width:  45px;\">\n",
       "    <span style=\"position: absolute;left: 5px;top: 5px;\">b21</span>\n",
       "  </div>\n",
       "  <div id=\"b22\" style=\"position: absolute;box-sizing: border-box;border: 1px solid black;left:   195px;right:  240px;top:    165px;bottom: 240px;height: 75px;width:  45px;\">\n",
       "    <span style=\"position: absolute;left: 5px;top: 5px;\">b22</span>\n",
       "  </div>\n",
       "  <div id=\"a1.Attribute.RIGHT-a2.Attribute.LEFT\" style=\"position: absolute;box-sizing: border-box;border: 0.5px dashed red;left:   135px;right:  165px;top:    150.0px;bottom: 150.0px;width:  30px;height:  1px;\"></div>\n",
       "  <div id=\"a1.Attribute.RIGHT-a2.Attribute.LEFT\" style=\"position: absolute;box-sizing: border-box;border: 0.5px dashed red;left:   135px;right:  165px;top:    150.0px;bottom: 150.0px;width:  30px;height:  1px;\"></div>\n",
       "  <div id=\"b11.Attribute.BOTTOM-b12.Attribute.TOP\" style=\"position: absolute;box-sizing: border-box;border: 0.5px dashed red;left:   82.5px;right:  82.5px;top:    135px;bottom: 165px;width:   1px;height: 30px;\"></div>\n",
       "  <div id=\"b11.Attribute.BOTTOM-b12.Attribute.TOP\" style=\"position: absolute;box-sizing: border-box;border: 0.5px dashed red;left:   82.5px;right:  82.5px;top:    135px;bottom: 165px;width:   1px;height: 30px;\"></div>\n",
       "  <div id=\"b21.Attribute.BOTTOM-b22.Attribute.TOP\" style=\"position: absolute;box-sizing: border-box;border: 0.5px dashed red;left:   217.5px;right:  217.5px;top:    135px;bottom: 165px;width:   1px;height: 30px;\"></div>\n",
       "  <div id=\"b21.Attribute.BOTTOM-b22.Attribute.TOP\" style=\"position: absolute;box-sizing: border-box;border: 0.5px dashed red;left:   217.5px;right:  217.5px;top:    135px;bottom: 165px;width:   1px;height: 30px;\"></div>\n",
       "  <div id=\"p.Attribute.TOP-a1.Attribute.TOP\" style=\"position: absolute;box-sizing: border-box;border: 0.5px dashed red;left:   82.5px;right:  82.5px;top:    0px;bottom: 30px;width:   1px;height: 30px;\"></div>\n",
       "  <div id=\"p.Attribute.TOP-a1.Attribute.TOP\" style=\"position: absolute;box-sizing: border-box;border: 0.5px dashed red;left:   82.5px;right:  82.5px;top:    0px;bottom: 30px;width:   1px;height: 30px;\"></div>\n",
       "  <div id=\"p.Attribute.LEFT-a1.Attribute.LEFT\" style=\"position: absolute;box-sizing: border-box;border: 0.5px dashed red;left:   0px;right:  30px;top:    150.0px;bottom: 150.0px;width:  30px;height:  1px;\"></div>\n",
       "  <div id=\"p.Attribute.LEFT-a1.Attribute.LEFT\" style=\"position: absolute;box-sizing: border-box;border: 0.5px dashed red;left:   0px;right:  30px;top:    150.0px;bottom: 150.0px;width:  30px;height:  1px;\"></div>\n",
       "  <div id=\"p.Attribute.BOTTOM-a1.Attribute.BOTTOM\" style=\"position: absolute;box-sizing: border-box;border: 0.5px dashed red;left:   82.5px;right:  82.5px;top:    270px;bottom: 300px;width:   1px;height: 30px;\"></div>\n",
       "  <div id=\"p.Attribute.BOTTOM-a1.Attribute.BOTTOM\" style=\"position: absolute;box-sizing: border-box;border: 0.5px dashed red;left:   82.5px;right:  82.5px;top:    270px;bottom: 300px;width:   1px;height: 30px;\"></div>\n",
       "  <div id=\"p.Attribute.TOP-a2.Attribute.TOP\" style=\"position: absolute;box-sizing: border-box;border: 0.5px dashed red;left:   217.5px;right:  217.5px;top:    0px;bottom: 30px;width:   1px;height: 30px;\"></div>\n",
       "  <div id=\"p.Attribute.TOP-a2.Attribute.TOP\" style=\"position: absolute;box-sizing: border-box;border: 0.5px dashed red;left:   217.5px;right:  217.5px;top:    0px;bottom: 30px;width:   1px;height: 30px;\"></div>\n",
       "  <div id=\"p.Attribute.BOTTOM-a2.Attribute.BOTTOM\" style=\"position: absolute;box-sizing: border-box;border: 0.5px dashed red;left:   217.5px;right:  217.5px;top:    270px;bottom: 300px;width:   1px;height: 30px;\"></div>\n",
       "  <div id=\"p.Attribute.BOTTOM-a2.Attribute.BOTTOM\" style=\"position: absolute;box-sizing: border-box;border: 0.5px dashed red;left:   217.5px;right:  217.5px;top:    270px;bottom: 300px;width:   1px;height: 30px;\"></div>\n",
       "  <div id=\"p.Attribute.RIGHT-a2.Attribute.RIGHT\" style=\"position: absolute;box-sizing: border-box;border: 0.5px dashed red;left:   270px;right:  300px;top:    150.0px;bottom: 150.0px;width:  30px;height:  1px;\"></div>\n",
       "  <div id=\"p.Attribute.RIGHT-a2.Attribute.RIGHT\" style=\"position: absolute;box-sizing: border-box;border: 0.5px dashed red;left:   270px;right:  300px;top:    150.0px;bottom: 150.0px;width:  30px;height:  1px;\"></div>\n",
       "  <div id=\"a1.Attribute.TOP-b11.Attribute.TOP\" style=\"position: absolute;box-sizing: border-box;border: 0.5px dashed red;left:   82.5px;right:  82.5px;top:    30px;bottom: 60px;width:   1px;height: 30px;\"></div>\n",
       "  <div id=\"a1.Attribute.TOP-b11.Attribute.TOP\" style=\"position: absolute;box-sizing: border-box;border: 0.5px dashed red;left:   82.5px;right:  82.5px;top:    30px;bottom: 60px;width:   1px;height: 30px;\"></div>\n",
       "  <div id=\"a1.Attribute.LEFT-b11.Attribute.LEFT\" style=\"position: absolute;box-sizing: border-box;border: 0.5px dashed red;left:   30px;right:  60px;top:    97.5px;bottom: 97.5px;width:  30px;height:  1px;\"></div>\n",
       "  <div id=\"a1.Attribute.LEFT-b11.Attribute.LEFT\" style=\"position: absolute;box-sizing: border-box;border: 0.5px dashed red;left:   30px;right:  60px;top:    97.5px;bottom: 97.5px;width:  30px;height:  1px;\"></div>\n",
       "  <div id=\"a1.Attribute.RIGHT-b11.Attribute.RIGHT\" style=\"position: absolute;box-sizing: border-box;border: 0.5px dashed red;left:   105px;right:  135px;top:    97.5px;bottom: 97.5px;width:  30px;height:  1px;\"></div>\n",
       "  <div id=\"a1.Attribute.RIGHT-b11.Attribute.RIGHT\" style=\"position: absolute;box-sizing: border-box;border: 0.5px dashed red;left:   105px;right:  135px;top:    97.5px;bottom: 97.5px;width:  30px;height:  1px;\"></div>\n",
       "  <div id=\"a1.Attribute.LEFT-b12.Attribute.LEFT\" style=\"position: absolute;box-sizing: border-box;border: 0.5px dashed red;left:   30px;right:  60px;top:    202.5px;bottom: 202.5px;width:  30px;height:  1px;\"></div>\n",
       "  <div id=\"a1.Attribute.LEFT-b12.Attribute.LEFT\" style=\"position: absolute;box-sizing: border-box;border: 0.5px dashed red;left:   30px;right:  60px;top:    202.5px;bottom: 202.5px;width:  30px;height:  1px;\"></div>\n",
       "  <div id=\"a1.Attribute.BOTTOM-b12.Attribute.BOTTOM\" style=\"position: absolute;box-sizing: border-box;border: 0.5px dashed red;left:   82.5px;right:  82.5px;top:    240px;bottom: 270px;width:   1px;height: 30px;\"></div>\n",
       "  <div id=\"a1.Attribute.BOTTOM-b12.Attribute.BOTTOM\" style=\"position: absolute;box-sizing: border-box;border: 0.5px dashed red;left:   82.5px;right:  82.5px;top:    240px;bottom: 270px;width:   1px;height: 30px;\"></div>\n",
       "  <div id=\"a1.Attribute.RIGHT-b12.Attribute.RIGHT\" style=\"position: absolute;box-sizing: border-box;border: 0.5px dashed red;left:   105px;right:  135px;top:    202.5px;bottom: 202.5px;width:  30px;height:  1px;\"></div>\n",
       "  <div id=\"a1.Attribute.RIGHT-b12.Attribute.RIGHT\" style=\"position: absolute;box-sizing: border-box;border: 0.5px dashed red;left:   105px;right:  135px;top:    202.5px;bottom: 202.5px;width:  30px;height:  1px;\"></div>\n",
       "  <div id=\"a2.Attribute.TOP-b21.Attribute.TOP\" style=\"position: absolute;box-sizing: border-box;border: 0.5px dashed red;left:   217.5px;right:  217.5px;top:    30px;bottom: 60px;width:   1px;height: 30px;\"></div>\n",
       "  <div id=\"a2.Attribute.TOP-b21.Attribute.TOP\" style=\"position: absolute;box-sizing: border-box;border: 0.5px dashed red;left:   217.5px;right:  217.5px;top:    30px;bottom: 60px;width:   1px;height: 30px;\"></div>\n",
       "  <div id=\"a2.Attribute.LEFT-b21.Attribute.LEFT\" style=\"position: absolute;box-sizing: border-box;border: 0.5px dashed red;left:   165px;right:  195px;top:    97.5px;bottom: 97.5px;width:  30px;height:  1px;\"></div>\n",
       "  <div id=\"a2.Attribute.LEFT-b21.Attribute.LEFT\" style=\"position: absolute;box-sizing: border-box;border: 0.5px dashed red;left:   165px;right:  195px;top:    97.5px;bottom: 97.5px;width:  30px;height:  1px;\"></div>\n",
       "  <div id=\"a2.Attribute.RIGHT-b21.Attribute.RIGHT\" style=\"position: absolute;box-sizing: border-box;border: 0.5px dashed red;left:   240px;right:  270px;top:    97.5px;bottom: 97.5px;width:  30px;height:  1px;\"></div>\n",
       "  <div id=\"a2.Attribute.RIGHT-b21.Attribute.RIGHT\" style=\"position: absolute;box-sizing: border-box;border: 0.5px dashed red;left:   240px;right:  270px;top:    97.5px;bottom: 97.5px;width:  30px;height:  1px;\"></div>\n",
       "  <div id=\"a2.Attribute.LEFT-b22.Attribute.LEFT\" style=\"position: absolute;box-sizing: border-box;border: 0.5px dashed red;left:   165px;right:  195px;top:    202.5px;bottom: 202.5px;width:  30px;height:  1px;\"></div>\n",
       "  <div id=\"a2.Attribute.LEFT-b22.Attribute.LEFT\" style=\"position: absolute;box-sizing: border-box;border: 0.5px dashed red;left:   165px;right:  195px;top:    202.5px;bottom: 202.5px;width:  30px;height:  1px;\"></div>\n",
       "  <div id=\"a2.Attribute.BOTTOM-b22.Attribute.BOTTOM\" style=\"position: absolute;box-sizing: border-box;border: 0.5px dashed red;left:   217.5px;right:  217.5px;top:    240px;bottom: 270px;width:   1px;height: 30px;\"></div>\n",
       "  <div id=\"a2.Attribute.BOTTOM-b22.Attribute.BOTTOM\" style=\"position: absolute;box-sizing: border-box;border: 0.5px dashed red;left:   217.5px;right:  217.5px;top:    240px;bottom: 270px;width:   1px;height: 30px;\"></div>\n",
       "  <div id=\"a2.Attribute.RIGHT-b22.Attribute.RIGHT\" style=\"position: absolute;box-sizing: border-box;border: 0.5px dashed red;left:   240px;right:  270px;top:    202.5px;bottom: 202.5px;width:  30px;height:  1px;\"></div>\n",
       "  <div id=\"a2.Attribute.RIGHT-b22.Attribute.RIGHT\" style=\"position: absolute;box-sizing: border-box;border: 0.5px dashed red;left:   240px;right:  270px;top:    202.5px;bottom: 202.5px;width:  30px;height:  1px;\"></div>\n",
       "  <div id=\"a1.Attribute.TOP-a2.Attribute.TOP\" style=\"position: absolute;box-sizing: border-box;border: 0.5px dashed blue;left:   30px;right:  270px;top:    30px;bottom: 30px;width:  240px;height:  1px;\"></div>\n",
       "  <div id=\"a1.Attribute.TOP-a2.Attribute.TOP\" style=\"position: absolute;box-sizing: border-box;border: 0.5px dashed blue;left:   30px;right:  270px;top:    30px;bottom: 30px;width:  240px;height:  1px;\"></div>\n",
       "  <div id=\"a1.Attribute.BOTTOM-a2.Attribute.BOTTOM\" style=\"position: absolute;box-sizing: border-box;border: 0.5px dashed blue;left:   30px;right:  270px;top:    270px;bottom: 270px;width:  240px;height:  1px;\"></div>\n",
       "  <div id=\"a1.Attribute.BOTTOM-a2.Attribute.BOTTOM\" style=\"position: absolute;box-sizing: border-box;border: 0.5px dashed blue;left:   30px;right:  270px;top:    270px;bottom: 270px;width:  240px;height:  1px;\"></div>\n",
       "  <div id=\"a2.Attribute.TOP-a1.Attribute.TOP\" style=\"position: absolute;box-sizing: border-box;border: 0.5px dashed blue;left:   30px;right:  270px;top:    30px;bottom: 30px;width:  240px;height:  1px;\"></div>\n",
       "  <div id=\"a2.Attribute.TOP-a1.Attribute.TOP\" style=\"position: absolute;box-sizing: border-box;border: 0.5px dashed blue;left:   30px;right:  270px;top:    30px;bottom: 30px;width:  240px;height:  1px;\"></div>\n",
       "  <div id=\"a2.Attribute.BOTTOM-a1.Attribute.BOTTOM\" style=\"position: absolute;box-sizing: border-box;border: 0.5px dashed blue;left:   30px;right:  270px;top:    270px;bottom: 270px;width:  240px;height:  1px;\"></div>\n",
       "  <div id=\"a2.Attribute.BOTTOM-a1.Attribute.BOTTOM\" style=\"position: absolute;box-sizing: border-box;border: 0.5px dashed blue;left:   30px;right:  270px;top:    270px;bottom: 270px;width:  240px;height:  1px;\"></div>\n",
       "  <div id=\"b11.Attribute.LEFT-b12.Attribute.LEFT\" style=\"position: absolute;box-sizing: border-box;border: 0.5px dashed blue;left:   60px;right:  60px;top:    60px;bottom: 240px;width:   1px;height: 180px;\"></div>\n",
       "  <div id=\"b11.Attribute.LEFT-b12.Attribute.LEFT\" style=\"position: absolute;box-sizing: border-box;border: 0.5px dashed blue;left:   60px;right:  60px;top:    60px;bottom: 240px;width:   1px;height: 180px;\"></div>\n",
       "  <div id=\"b11.Attribute.RIGHT-b12.Attribute.RIGHT\" style=\"position: absolute;box-sizing: border-box;border: 0.5px dashed blue;left:   105px;right:  105px;top:    60px;bottom: 240px;width:   1px;height: 180px;\"></div>\n",
       "  <div id=\"b11.Attribute.RIGHT-b12.Attribute.RIGHT\" style=\"position: absolute;box-sizing: border-box;border: 0.5px dashed blue;left:   105px;right:  105px;top:    60px;bottom: 240px;width:   1px;height: 180px;\"></div>\n",
       "  <div id=\"b12.Attribute.LEFT-b11.Attribute.LEFT\" style=\"position: absolute;box-sizing: border-box;border: 0.5px dashed blue;left:   60px;right:  60px;top:    60px;bottom: 240px;width:   1px;height: 180px;\"></div>\n",
       "  <div id=\"b12.Attribute.LEFT-b11.Attribute.LEFT\" style=\"position: absolute;box-sizing: border-box;border: 0.5px dashed blue;left:   60px;right:  60px;top:    60px;bottom: 240px;width:   1px;height: 180px;\"></div>\n",
       "  <div id=\"b12.Attribute.RIGHT-b11.Attribute.RIGHT\" style=\"position: absolute;box-sizing: border-box;border: 0.5px dashed blue;left:   105px;right:  105px;top:    60px;bottom: 240px;width:   1px;height: 180px;\"></div>\n",
       "  <div id=\"b12.Attribute.RIGHT-b11.Attribute.RIGHT\" style=\"position: absolute;box-sizing: border-box;border: 0.5px dashed blue;left:   105px;right:  105px;top:    60px;bottom: 240px;width:   1px;height: 180px;\"></div>\n",
       "  <div id=\"b21.Attribute.LEFT-b22.Attribute.LEFT\" style=\"position: absolute;box-sizing: border-box;border: 0.5px dashed blue;left:   195px;right:  195px;top:    60px;bottom: 240px;width:   1px;height: 180px;\"></div>\n",
       "  <div id=\"b21.Attribute.LEFT-b22.Attribute.LEFT\" style=\"position: absolute;box-sizing: border-box;border: 0.5px dashed blue;left:   195px;right:  195px;top:    60px;bottom: 240px;width:   1px;height: 180px;\"></div>\n",
       "  <div id=\"b21.Attribute.RIGHT-b22.Attribute.RIGHT\" style=\"position: absolute;box-sizing: border-box;border: 0.5px dashed blue;left:   240px;right:  240px;top:    60px;bottom: 240px;width:   1px;height: 180px;\"></div>\n",
       "  <div id=\"b21.Attribute.RIGHT-b22.Attribute.RIGHT\" style=\"position: absolute;box-sizing: border-box;border: 0.5px dashed blue;left:   240px;right:  240px;top:    60px;bottom: 240px;width:   1px;height: 180px;\"></div>\n",
       "  <div id=\"b22.Attribute.LEFT-b21.Attribute.LEFT\" style=\"position: absolute;box-sizing: border-box;border: 0.5px dashed blue;left:   195px;right:  195px;top:    60px;bottom: 240px;width:   1px;height: 180px;\"></div>\n",
       "  <div id=\"b22.Attribute.LEFT-b21.Attribute.LEFT\" style=\"position: absolute;box-sizing: border-box;border: 0.5px dashed blue;left:   195px;right:  195px;top:    60px;bottom: 240px;width:   1px;height: 180px;\"></div>\n",
       "  <div id=\"b22.Attribute.RIGHT-b21.Attribute.RIGHT\" style=\"position: absolute;box-sizing: border-box;border: 0.5px dashed blue;left:   240px;right:  240px;top:    60px;bottom: 240px;width:   1px;height: 180px;\"></div>\n",
       "  <div id=\"b22.Attribute.RIGHT-b21.Attribute.RIGHT\" style=\"position: absolute;box-sizing: border-box;border: 0.5px dashed blue;left:   240px;right:  240px;top:    60px;bottom: 240px;width:   1px;height: 180px;\"></div>\n",
       "</div>"
      ],
      "text/plain": [
       "<IPython.core.display.HTML object>"
      ]
     },
     "metadata": {},
     "output_type": "display_data"
    }
   ],
   "source": [
    "html_str = str(display_view(sample_view, constraints=constraints, scale=3))\n",
    "display(HTML(html_str))"
   ]
  },
  {
   "cell_type": "code",
   "execution_count": 11,
   "metadata": {},
   "outputs": [
    {
     "name": "stdout",
     "output_type": "stream",
     "text": [
      "a2.left ≤ a1.right + 10 (priority=1000, samples=1, kind=spacing)\n",
      "a2.left ≥ a1.right + 10 (priority=1000, samples=1, kind=spacing)\n",
      "b12.top ≤ b11.bottom + 10 (priority=1000, samples=1, kind=spacing)\n",
      "b12.top ≥ b11.bottom + 10 (priority=1000, samples=1, kind=spacing)\n",
      "b22.top ≤ b21.bottom + 10 (priority=1000, samples=1, kind=spacing)\n",
      "b22.top ≥ b21.bottom + 10 (priority=1000, samples=1, kind=spacing)\n",
      "a1.top ≤ p.top + 10 (priority=1000, samples=1, kind=spacing)\n",
      "a1.top ≥ p.top + 10 (priority=1000, samples=1, kind=spacing)\n",
      "a1.left ≤ p.left + 10 (priority=1000, samples=1, kind=spacing)\n",
      "a1.left ≥ p.left + 10 (priority=1000, samples=1, kind=spacing)\n",
      "a1.bottom ≤ p.bottom - 10 (priority=1000, samples=1, kind=spacing)\n",
      "a1.bottom ≥ p.bottom - 10 (priority=1000, samples=1, kind=spacing)\n",
      "a2.top ≤ p.top + 10 (priority=1000, samples=1, kind=spacing)\n",
      "a2.top ≥ p.top + 10 (priority=1000, samples=1, kind=spacing)\n",
      "a2.bottom ≤ p.bottom - 10 (priority=1000, samples=1, kind=spacing)\n",
      "a2.bottom ≥ p.bottom - 10 (priority=1000, samples=1, kind=spacing)\n",
      "a2.right ≤ p.right - 10 (priority=1000, samples=1, kind=spacing)\n",
      "a2.right ≥ p.right - 10 (priority=1000, samples=1, kind=spacing)\n",
      "b11.top ≤ a1.top + 10 (priority=1000, samples=1, kind=spacing)\n",
      "b11.top ≥ a1.top + 10 (priority=1000, samples=1, kind=spacing)\n",
      "b11.left ≤ a1.left + 10 (priority=1000, samples=1, kind=spacing)\n",
      "b11.left ≥ a1.left + 10 (priority=1000, samples=1, kind=spacing)\n",
      "b11.right ≤ a1.right - 10 (priority=1000, samples=1, kind=spacing)\n",
      "b11.right ≥ a1.right - 10 (priority=1000, samples=1, kind=spacing)\n",
      "b12.left ≤ a1.left + 10 (priority=1000, samples=1, kind=spacing)\n",
      "b12.left ≥ a1.left + 10 (priority=1000, samples=1, kind=spacing)\n",
      "b12.bottom ≤ a1.bottom - 10 (priority=1000, samples=1, kind=spacing)\n",
      "b12.bottom ≥ a1.bottom - 10 (priority=1000, samples=1, kind=spacing)\n",
      "b12.right ≤ a1.right - 10 (priority=1000, samples=1, kind=spacing)\n",
      "b12.right ≥ a1.right - 10 (priority=1000, samples=1, kind=spacing)\n",
      "b21.top ≤ a2.top + 10 (priority=1000, samples=1, kind=spacing)\n",
      "b21.top ≥ a2.top + 10 (priority=1000, samples=1, kind=spacing)\n",
      "b21.left ≤ a2.left + 10 (priority=1000, samples=1, kind=spacing)\n",
      "b21.left ≥ a2.left + 10 (priority=1000, samples=1, kind=spacing)\n",
      "b21.right ≤ a2.right - 10 (priority=1000, samples=1, kind=spacing)\n",
      "b21.right ≥ a2.right - 10 (priority=1000, samples=1, kind=spacing)\n",
      "b22.left ≤ a2.left + 10 (priority=1000, samples=1, kind=spacing)\n",
      "b22.left ≥ a2.left + 10 (priority=1000, samples=1, kind=spacing)\n",
      "b22.bottom ≤ a2.bottom - 10 (priority=1000, samples=1, kind=spacing)\n",
      "b22.bottom ≥ a2.bottom - 10 (priority=1000, samples=1, kind=spacing)\n",
      "b22.right ≤ a2.right - 10 (priority=1000, samples=1, kind=spacing)\n",
      "b22.right ≥ a2.right - 10 (priority=1000, samples=1, kind=spacing)\n",
      "a2.top ≤ a1.top (priority=1000, samples=1, kind=alignment)\n",
      "a2.top ≥ a1.top (priority=1000, samples=1, kind=alignment)\n",
      "a2.bottom ≤ a1.bottom (priority=1000, samples=1, kind=alignment)\n",
      "a2.bottom ≥ a1.bottom (priority=1000, samples=1, kind=alignment)\n",
      "a1.top ≤ a2.top (priority=1000, samples=1, kind=alignment)\n",
      "a1.top ≥ a2.top (priority=1000, samples=1, kind=alignment)\n",
      "a1.bottom ≤ a2.bottom (priority=1000, samples=1, kind=alignment)\n",
      "a1.bottom ≥ a2.bottom (priority=1000, samples=1, kind=alignment)\n",
      "b12.left ≤ b11.left (priority=1000, samples=1, kind=alignment)\n",
      "b12.left ≥ b11.left (priority=1000, samples=1, kind=alignment)\n",
      "b12.right ≤ b11.right (priority=1000, samples=1, kind=alignment)\n",
      "b12.right ≥ b11.right (priority=1000, samples=1, kind=alignment)\n",
      "b11.left ≤ b12.left (priority=1000, samples=1, kind=alignment)\n",
      "b11.left ≥ b12.left (priority=1000, samples=1, kind=alignment)\n",
      "b11.right ≤ b12.right (priority=1000, samples=1, kind=alignment)\n",
      "b11.right ≥ b12.right (priority=1000, samples=1, kind=alignment)\n",
      "b22.left ≤ b21.left (priority=1000, samples=1, kind=alignment)\n",
      "b22.left ≥ b21.left (priority=1000, samples=1, kind=alignment)\n",
      "b22.right ≤ b21.right (priority=1000, samples=1, kind=alignment)\n",
      "b22.right ≥ b21.right (priority=1000, samples=1, kind=alignment)\n",
      "b21.left ≤ b22.left (priority=1000, samples=1, kind=alignment)\n",
      "b21.left ≥ b22.left (priority=1000, samples=1, kind=alignment)\n",
      "b21.right ≤ b22.right (priority=1000, samples=1, kind=alignment)\n",
      "b21.right ≥ b22.right (priority=1000, samples=1, kind=alignment)\n",
      "...\n"
     ]
    }
   ],
   "source": [
    "trained_constraints = [constraint.train_view(sample_view) for constraint in constraints]\n",
    "    \n",
    "for constraint in trained_constraints:\n",
    "    print(str(constraint))\n",
    "print(\"...\")"
   ]
  },
  {
   "cell_type": "code",
   "execution_count": null,
   "metadata": {},
   "outputs": [],
   "source": []
  },
  {
   "cell_type": "code",
   "execution_count": null,
   "metadata": {},
   "outputs": [],
   "source": []
  }
 ],
 "metadata": {
  "kernelspec": {
   "display_name": "Python 3",
   "language": "python",
   "name": "python3"
  },
  "language_info": {
   "codemirror_mode": {
    "name": "ipython",
    "version": 3
   },
   "file_extension": ".py",
   "mimetype": "text/x-python",
   "name": "python",
   "nbconvert_exporter": "python",
   "pygments_lexer": "ipython3",
   "version": "3.7.3"
  }
 },
 "nbformat": 4,
 "nbformat_minor": 4
}
