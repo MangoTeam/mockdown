{
 "cells": [
  {
   "cell_type": "code",
   "execution_count": 1,
   "metadata": {},
   "outputs": [],
   "source": [
    "%reload_ext autoreload\n",
    "%autoreload 2"
   ]
  },
  {
   "cell_type": "code",
   "execution_count": 2,
   "metadata": {},
   "outputs": [],
   "source": [
    "from IPython.core.display import display, HTML\n",
    "from IPython.lib.pretty import pprint\n",
    "from itertools import chain, tee"
   ]
  },
  {
   "cell_type": "code",
   "execution_count": 3,
   "metadata": {},
   "outputs": [],
   "source": [
    "from mockdown.model import View\n",
    "from mockdown.display.view import display_view"
   ]
  },
  {
   "cell_type": "code",
   "execution_count": 4,
   "metadata": {},
   "outputs": [],
   "source": [
    "sample_view = View(\"p\", (0, 0, 100, 100), children=[\n",
    "    View(\"a1\", (10, 10, 45, 90), children=[\n",
    "        View(\"b11\", (20, 20, 35, 45)),\n",
    "        View(\"b12\", (20, 55, 35, 80))\n",
    "    ]),\n",
    "    View(\"a2\", (55, 10, 90, 90), children=[\n",
    "        View(\"b21\", (65, 20, 80, 45)),\n",
    "        View(\"b22\", (65, 55, 80, 80))\n",
    "    ])\n",
    "])"
   ]
  },
  {
   "cell_type": "code",
   "execution_count": 5,
   "metadata": {},
   "outputs": [
    {
     "data": {
      "text/html": [
       "<div id=\"container\" style=\"font-size: 10px;position: relative;width:  300px;height: 300px;\">\n",
       "  <div id=\"p\" style=\"position: absolute;box-sizing: border-box;border: 1px solid black;left:   0px;right:  300px;top:    0px;bottom: 300px;height: 300px;width:  300px;\">\n",
       "    <span style=\"position: absolute;left: 5px;top: 5px;\">p</span>\n",
       "  </div>\n",
       "  <div id=\"a1\" style=\"position: absolute;box-sizing: border-box;border: 1px solid black;left:   30px;right:  135px;top:    30px;bottom: 270px;height: 240px;width:  105px;\">\n",
       "    <span style=\"position: absolute;left: 5px;top: 5px;\">a1</span>\n",
       "  </div>\n",
       "  <div id=\"b11\" style=\"position: absolute;box-sizing: border-box;border: 1px solid black;left:   60px;right:  105px;top:    60px;bottom: 135px;height: 75px;width:  45px;\">\n",
       "    <span style=\"position: absolute;left: 5px;top: 5px;\">b11</span>\n",
       "  </div>\n",
       "  <div id=\"b12\" style=\"position: absolute;box-sizing: border-box;border: 1px solid black;left:   60px;right:  105px;top:    165px;bottom: 240px;height: 75px;width:  45px;\">\n",
       "    <span style=\"position: absolute;left: 5px;top: 5px;\">b12</span>\n",
       "  </div>\n",
       "  <div id=\"a2\" style=\"position: absolute;box-sizing: border-box;border: 1px solid black;left:   165px;right:  270px;top:    30px;bottom: 270px;height: 240px;width:  105px;\">\n",
       "    <span style=\"position: absolute;left: 5px;top: 5px;\">a2</span>\n",
       "  </div>\n",
       "  <div id=\"b21\" style=\"position: absolute;box-sizing: border-box;border: 1px solid black;left:   195px;right:  240px;top:    60px;bottom: 135px;height: 75px;width:  45px;\">\n",
       "    <span style=\"position: absolute;left: 5px;top: 5px;\">b21</span>\n",
       "  </div>\n",
       "  <div id=\"b22\" style=\"position: absolute;box-sizing: border-box;border: 1px solid black;left:   195px;right:  240px;top:    165px;bottom: 240px;height: 75px;width:  45px;\">\n",
       "    <span style=\"position: absolute;left: 5px;top: 5px;\">b22</span>\n",
       "  </div>\n",
       "</div>"
      ],
      "text/plain": [
       "<IPython.core.display.HTML object>"
      ]
     },
     "metadata": {},
     "output_type": "display_data"
    }
   ],
   "source": [
    "html_str = str(display_view(sample_view, scale=3))\n",
    "display(HTML(html_str))"
   ]
  },
  {
   "cell_type": "code",
   "execution_count": 6,
   "metadata": {},
   "outputs": [],
   "source": [
    "from mockdown.visibility import visible_pairs\n",
    "\n",
    "edge_pairs = visible_pairs(sample_view, deep=True)\n",
    "anchor_pairs = [(e1.anchor, e2.anchor) for (e1, e2) in edge_pairs]"
   ]
  },
  {
   "cell_type": "code",
   "execution_count": 7,
   "metadata": {},
   "outputs": [
    {
     "data": {
      "text/html": [
       "<div id=\"container\" style=\"font-size: 10px;position: relative;width:  300px;height: 300px;\">\n",
       "  <div id=\"p\" style=\"position: absolute;box-sizing: border-box;border: 1px solid black;left:   0px;right:  300px;top:    0px;bottom: 300px;height: 300px;width:  300px;\">\n",
       "    <span style=\"position: absolute;left: 5px;top: 5px;\">p</span>\n",
       "  </div>\n",
       "  <div id=\"a1\" style=\"position: absolute;box-sizing: border-box;border: 1px solid black;left:   30px;right:  135px;top:    30px;bottom: 270px;height: 240px;width:  105px;\">\n",
       "    <span style=\"position: absolute;left: 5px;top: 5px;\">a1</span>\n",
       "  </div>\n",
       "  <div id=\"b11\" style=\"position: absolute;box-sizing: border-box;border: 1px solid black;left:   60px;right:  105px;top:    60px;bottom: 135px;height: 75px;width:  45px;\">\n",
       "    <span style=\"position: absolute;left: 5px;top: 5px;\">b11</span>\n",
       "  </div>\n",
       "  <div id=\"b12\" style=\"position: absolute;box-sizing: border-box;border: 1px solid black;left:   60px;right:  105px;top:    165px;bottom: 240px;height: 75px;width:  45px;\">\n",
       "    <span style=\"position: absolute;left: 5px;top: 5px;\">b12</span>\n",
       "  </div>\n",
       "  <div id=\"a2\" style=\"position: absolute;box-sizing: border-box;border: 1px solid black;left:   165px;right:  270px;top:    30px;bottom: 270px;height: 240px;width:  105px;\">\n",
       "    <span style=\"position: absolute;left: 5px;top: 5px;\">a2</span>\n",
       "  </div>\n",
       "  <div id=\"b21\" style=\"position: absolute;box-sizing: border-box;border: 1px solid black;left:   195px;right:  240px;top:    60px;bottom: 135px;height: 75px;width:  45px;\">\n",
       "    <span style=\"position: absolute;left: 5px;top: 5px;\">b21</span>\n",
       "  </div>\n",
       "  <div id=\"b22\" style=\"position: absolute;box-sizing: border-box;border: 1px solid black;left:   195px;right:  240px;top:    165px;bottom: 240px;height: 75px;width:  45px;\">\n",
       "    <span style=\"position: absolute;left: 5px;top: 5px;\">b22</span>\n",
       "  </div>\n",
       "  <div id=\"p.top-a1.top\" style=\"position: absolute;box-sizing: border-box;border: 0.5px dashed red;left:   82.5px;right:  82.5px;top:    0px;bottom: 30px;width:   1px;height: 30px;\"></div>\n",
       "  <div id=\"a1.bottom-p.bottom\" style=\"position: absolute;box-sizing: border-box;border: 0.5px dashed red;left:   82.5px;right:  82.5px;top:    270px;bottom: 300px;width:   1px;height: 30px;\"></div>\n",
       "  <div id=\"p.top-a2.top\" style=\"position: absolute;box-sizing: border-box;border: 0.5px dashed red;left:   217.5px;right:  217.5px;top:    0px;bottom: 30px;width:   1px;height: 30px;\"></div>\n",
       "  <div id=\"a2.bottom-p.bottom\" style=\"position: absolute;box-sizing: border-box;border: 0.5px dashed red;left:   217.5px;right:  217.5px;top:    270px;bottom: 300px;width:   1px;height: 30px;\"></div>\n",
       "  <div id=\"p.left-a1.left\" style=\"position: absolute;box-sizing: border-box;border: 0.5px dashed red;left:   0px;right:  30px;top:    150.0px;bottom: 150.0px;width:  30px;height:  1px;\"></div>\n",
       "  <div id=\"a1.right-a2.left\" style=\"position: absolute;box-sizing: border-box;border: 0.5px dashed red;left:   135px;right:  165px;top:    150.0px;bottom: 150.0px;width:  30px;height:  1px;\"></div>\n",
       "  <div id=\"a2.right-p.right\" style=\"position: absolute;box-sizing: border-box;border: 0.5px dashed red;left:   270px;right:  300px;top:    150.0px;bottom: 150.0px;width:  30px;height:  1px;\"></div>\n",
       "  <div id=\"a1.top-b11.top\" style=\"position: absolute;box-sizing: border-box;border: 0.5px dashed red;left:   82.5px;right:  82.5px;top:    30px;bottom: 60px;width:   1px;height: 30px;\"></div>\n",
       "  <div id=\"b11.bottom-b12.top\" style=\"position: absolute;box-sizing: border-box;border: 0.5px dashed red;left:   82.5px;right:  82.5px;top:    135px;bottom: 165px;width:   1px;height: 30px;\"></div>\n",
       "  <div id=\"b12.bottom-a1.bottom\" style=\"position: absolute;box-sizing: border-box;border: 0.5px dashed red;left:   82.5px;right:  82.5px;top:    240px;bottom: 270px;width:   1px;height: 30px;\"></div>\n",
       "  <div id=\"a1.left-b11.left\" style=\"position: absolute;box-sizing: border-box;border: 0.5px dashed red;left:   30px;right:  60px;top:    97.5px;bottom: 97.5px;width:  30px;height:  1px;\"></div>\n",
       "  <div id=\"b11.right-a1.right\" style=\"position: absolute;box-sizing: border-box;border: 0.5px dashed red;left:   105px;right:  135px;top:    97.5px;bottom: 97.5px;width:  30px;height:  1px;\"></div>\n",
       "  <div id=\"a1.left-b12.left\" style=\"position: absolute;box-sizing: border-box;border: 0.5px dashed red;left:   30px;right:  60px;top:    202.5px;bottom: 202.5px;width:  30px;height:  1px;\"></div>\n",
       "  <div id=\"b12.right-a1.right\" style=\"position: absolute;box-sizing: border-box;border: 0.5px dashed red;left:   105px;right:  135px;top:    202.5px;bottom: 202.5px;width:  30px;height:  1px;\"></div>\n",
       "  <div id=\"a2.top-b21.top\" style=\"position: absolute;box-sizing: border-box;border: 0.5px dashed red;left:   217.5px;right:  217.5px;top:    30px;bottom: 60px;width:   1px;height: 30px;\"></div>\n",
       "  <div id=\"b21.bottom-b22.top\" style=\"position: absolute;box-sizing: border-box;border: 0.5px dashed red;left:   217.5px;right:  217.5px;top:    135px;bottom: 165px;width:   1px;height: 30px;\"></div>\n",
       "  <div id=\"b22.bottom-a2.bottom\" style=\"position: absolute;box-sizing: border-box;border: 0.5px dashed red;left:   217.5px;right:  217.5px;top:    240px;bottom: 270px;width:   1px;height: 30px;\"></div>\n",
       "  <div id=\"a2.left-b21.left\" style=\"position: absolute;box-sizing: border-box;border: 0.5px dashed red;left:   165px;right:  195px;top:    97.5px;bottom: 97.5px;width:  30px;height:  1px;\"></div>\n",
       "  <div id=\"b21.right-a2.right\" style=\"position: absolute;box-sizing: border-box;border: 0.5px dashed red;left:   240px;right:  270px;top:    97.5px;bottom: 97.5px;width:  30px;height:  1px;\"></div>\n",
       "  <div id=\"a2.left-b22.left\" style=\"position: absolute;box-sizing: border-box;border: 0.5px dashed red;left:   165px;right:  195px;top:    202.5px;bottom: 202.5px;width:  30px;height:  1px;\"></div>\n",
       "  <div id=\"b22.right-a2.right\" style=\"position: absolute;box-sizing: border-box;border: 0.5px dashed red;left:   240px;right:  270px;top:    202.5px;bottom: 202.5px;width:  30px;height:  1px;\"></div>\n",
       "</div>"
      ],
      "text/plain": [
       "<IPython.core.display.HTML object>"
      ]
     },
     "metadata": {},
     "output_type": "display_data"
    }
   ],
   "source": [
    "html_str = str(display_view(sample_view, visible_pairs=edge_pairs, scale=3))\n",
    "display(HTML(html_str))"
   ]
  },
  {
   "cell_type": "code",
   "execution_count": 8,
   "metadata": {},
   "outputs": [
    {
     "ename": "ImportError",
     "evalue": "cannot import name 'constrainable_pairs' from 'mockdown.logic' (/Users/dylan/Projects/mockdown/mockdown/logic.py)",
     "output_type": "error",
     "traceback": [
      "\u001b[0;31m---------------------------------------------------------------------------\u001b[0m",
      "\u001b[0;31mImportError\u001b[0m                               Traceback (most recent call last)",
      "\u001b[0;32m<ipython-input-8-22188d837d97>\u001b[0m in \u001b[0;36m<module>\u001b[0;34m\u001b[0m\n\u001b[0;32m----> 1\u001b[0;31m \u001b[0;32mfrom\u001b[0m \u001b[0mmockdown\u001b[0m\u001b[0;34m.\u001b[0m\u001b[0mlogic\u001b[0m \u001b[0;32mimport\u001b[0m \u001b[0mconstrainable_pairs\u001b[0m\u001b[0;34m\u001b[0m\u001b[0;34m\u001b[0m\u001b[0m\n\u001b[0m\u001b[1;32m      2\u001b[0m \u001b[0mconstrainable_pairs\u001b[0m \u001b[0;34m=\u001b[0m \u001b[0mlist\u001b[0m\u001b[0;34m(\u001b[0m\u001b[0mconstrainable_pairs\u001b[0m\u001b[0;34m(\u001b[0m\u001b[0msample_view\u001b[0m\u001b[0;34m,\u001b[0m \u001b[0manchor_pairs\u001b[0m\u001b[0;34m)\u001b[0m\u001b[0;34m)\u001b[0m\u001b[0;34m\u001b[0m\u001b[0;34m\u001b[0m\u001b[0m\n\u001b[1;32m      3\u001b[0m \u001b[0;34m\u001b[0m\u001b[0m\n\u001b[1;32m      4\u001b[0m \u001b[0mspacings\u001b[0m \u001b[0;34m=\u001b[0m \u001b[0mlist\u001b[0m\u001b[0;34m(\u001b[0m\u001b[0mfilter\u001b[0m\u001b[0;34m(\u001b[0m\u001b[0;32mlambda\u001b[0m \u001b[0mp\u001b[0m\u001b[0;34m:\u001b[0m \u001b[0mp\u001b[0m\u001b[0;34m.\u001b[0m\u001b[0mkind\u001b[0m \u001b[0;34m==\u001b[0m \u001b[0;34m'spacing'\u001b[0m\u001b[0;34m,\u001b[0m \u001b[0mconstrainable_pairs\u001b[0m\u001b[0;34m)\u001b[0m\u001b[0;34m)\u001b[0m\u001b[0;34m\u001b[0m\u001b[0;34m\u001b[0m\u001b[0m\n\u001b[1;32m      5\u001b[0m \u001b[0malignments\u001b[0m \u001b[0;34m=\u001b[0m \u001b[0mlist\u001b[0m\u001b[0;34m(\u001b[0m\u001b[0mfilter\u001b[0m\u001b[0;34m(\u001b[0m\u001b[0;32mlambda\u001b[0m \u001b[0mp\u001b[0m\u001b[0;34m:\u001b[0m \u001b[0mp\u001b[0m\u001b[0;34m.\u001b[0m\u001b[0mkind\u001b[0m \u001b[0;34m==\u001b[0m \u001b[0;34m'alignment'\u001b[0m\u001b[0;34m,\u001b[0m \u001b[0mconstrainable_pairs\u001b[0m\u001b[0;34m)\u001b[0m\u001b[0;34m)\u001b[0m\u001b[0;34m\u001b[0m\u001b[0;34m\u001b[0m\u001b[0m\n",
      "\u001b[0;31mImportError\u001b[0m: cannot import name 'constrainable_pairs' from 'mockdown.logic' (/Users/dylan/Projects/mockdown/mockdown/logic.py)"
     ]
    }
   ],
   "source": [
    "from mockdown.logic import valid_constraints\n",
    "constraints = list(valid_constraints(sample_view, anchor_pairs))"
   ]
  },
  {
   "cell_type": "code",
   "execution_count": null,
   "metadata": {},
   "outputs": [],
   "source": [
    "html_str = str(display_view(sample_view, constrainable_pairs=constrainable_pairs, scale=5))\n",
    "display(HTML(html_str))"
   ]
  },
  {
   "cell_type": "code",
   "execution_count": null,
   "metadata": {},
   "outputs": [],
   "source": [
    "from mockdown.daikon import generate_decls, generate_dtrace\n",
    "\n",
    "decls_text = generate_decls(\"sample_view\", constrainable_pairs)\n",
    "dtrace_text = generate_dtrace(\"sample_view\", constrainable_pairs)\n",
    "\n",
    "print(decls_text[0:150] + \"\\n...\\n\")\n",
    "print(dtrace_text[0:80] + \"\\n...\\n\")"
   ]
  },
  {
   "cell_type": "code",
   "execution_count": null,
   "metadata": {},
   "outputs": [],
   "source": [
    "DAIKONJAR=\"/usr/local/opt/daikon/daikon-src/daikon.jar\"\n",
    "INVARIANTJAR=\"/Users/dylan/Projects/Pipeline/MockdownInvariants/out/artifacts/mockdown_inv/mockdown-inv.jar\"\n",
    "LIBJARS=\"/Users/dylan/Projects/Pipeline/MockdownInvariants/lib/*\"\n",
    "\n",
    "from asyncio import subprocess\n",
    "from tempfile import NamedTemporaryFile\n",
    "from shlex import quote\n",
    "import platform\n",
    "\n",
    "def mk_tmp(suffix: str):\n",
    "    return NamedTemporaryFile(mode='w+', \n",
    "                              prefix=\"mockdown-\",\n",
    "                              suffix=suffix)\n",
    "\n",
    "with mk_tmp('.decls') as decls_file, mk_tmp('.dtrace') as dtrace_file:\n",
    "    decls_file.write(decls_text)\n",
    "    decls_file.flush()\n",
    "    \n",
    "    dtrace_file.write(dtrace_text)\n",
    "    dtrace_file.flush()\n",
    "\n",
    "    cmd = (\n",
    "        f\"java -cp {DAIKONJAR}:{INVARIANTJAR}:{LIBJARS} daikon.Daikon\"\n",
    "        \" --nohierarchy\"\n",
    "        \" --disable-all-invariants\"\n",
    "        \" --user-defined-invariant edu.ucsd.mockdown.inv.PositionSpacingUpper\"\n",
    "        \" --config_option edu.ucsd.mockdown.inv.PositionSpacingUpper.enabled=true\"\n",
    "        f\" {quote(decls_file.name)}\"\n",
    "        f\" {quote(dtrace_file.name)}\"\n",
    "        \" -o /dev/null\"  # don't write a basename.inv.gz\n",
    "    )\n",
    "    \n",
    "    print(f\"> {cmd}\\n\")\n",
    "    \n",
    "    proc = await subprocess.create_subprocess_shell(cmd, stdout=subprocess.PIPE, stderr=subprocess.PIPE)\n",
    "    await proc.wait()\n",
    "    stdout, stderr = await proc.communicate()\n",
    "\n",
    "    print(f\"\\x1b[32m{stdout.decode()}\\x1b[0m\")\n",
    "    print(f\"\\x1b[31m{stderr.decode()}\\x1b[0m\")"
   ]
  },
  {
   "cell_type": "code",
   "execution_count": null,
   "metadata": {},
   "outputs": [],
   "source": [
    "from mockdown.constraint.base import AlignmentConstraint"
   ]
  },
  {
   "cell_type": "code",
   "execution_count": null,
   "metadata": {},
   "outputs": [],
   "source": []
  },
  {
   "cell_type": "code",
   "execution_count": null,
   "metadata": {},
   "outputs": [],
   "source": []
  }
 ],
 "metadata": {
  "kernelspec": {
   "display_name": "Python 3",
   "language": "python",
   "name": "python3"
  },
  "language_info": {
   "codemirror_mode": {
    "name": "ipython",
    "version": 3
   },
   "file_extension": ".py",
   "mimetype": "text/x-python",
   "name": "python",
   "nbconvert_exporter": "python",
   "pygments_lexer": "ipython3",
   "version": "3.7.3"
  }
 },
 "nbformat": 4,
 "nbformat_minor": 4
}
