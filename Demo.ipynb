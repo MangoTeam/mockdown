{
 "cells": [
  {
   "cell_type": "code",
   "execution_count": 1,
   "metadata": {},
   "outputs": [],
   "source": [
    "%reload_ext autoreload\n",
    "%autoreload 2"
   ]
  },
  {
   "cell_type": "code",
   "execution_count": 2,
   "metadata": {},
   "outputs": [],
   "source": [
    "from IPython.core.display import display, HTML\n",
    "from IPython.lib.pretty import pprint\n",
    "from itertools import chain, tee"
   ]
  },
  {
   "cell_type": "code",
   "execution_count": 3,
   "metadata": {},
   "outputs": [],
   "source": [
    "from mockdown.model import View\n",
    "from mockdown.display.view import display_view"
   ]
  },
  {
   "cell_type": "code",
   "execution_count": 4,
   "metadata": {},
   "outputs": [],
   "source": [
    "from mockdown.model.view import ViewBuilder as V\n",
    "\n",
    "sample_view = V(\"p\", (0, 0, 100, 100), [\n",
    "    V(\"a1\", (10, 10, 45, 90), [\n",
    "        V(\"b11\", (20, 20, 35, 45)),\n",
    "        V(\"b12\", (20, 55, 35, 80))\n",
    "    ]),\n",
    "    V(\"a2\", (55, 10, 90, 90), [\n",
    "        V(\"b21\", (65, 20, 80, 45)),\n",
    "        V(\"b22\", (65, 55, 80, 80))\n",
    "    ])\n",
    "]).to_view()"
   ]
  },
  {
   "cell_type": "code",
   "execution_count": 5,
   "metadata": {},
   "outputs": [
    {
     "data": {
      "text/html": [
       "<div id=\"container\" style=\"font-size: 10px;position: relative;width:  300px;height: 300px;\">\n",
       "  <div id=\"p\" style=\"position: absolute;box-sizing: border-box;border: 1px solid black;left:   0px;right:  300px;top:    0px;bottom: 300px;height: 300px;width:  300px;\">\n",
       "    <span style=\"position: absolute;left: 5px;top: 5px;\">p</span>\n",
       "  </div>\n",
       "  <div id=\"a1\" style=\"position: absolute;box-sizing: border-box;border: 1px solid black;left:   30px;right:  135px;top:    30px;bottom: 270px;height: 240px;width:  105px;\">\n",
       "    <span style=\"position: absolute;left: 5px;top: 5px;\">a1</span>\n",
       "  </div>\n",
       "  <div id=\"b11\" style=\"position: absolute;box-sizing: border-box;border: 1px solid black;left:   60px;right:  105px;top:    60px;bottom: 135px;height: 75px;width:  45px;\">\n",
       "    <span style=\"position: absolute;left: 5px;top: 5px;\">b11</span>\n",
       "  </div>\n",
       "  <div id=\"b12\" style=\"position: absolute;box-sizing: border-box;border: 1px solid black;left:   60px;right:  105px;top:    165px;bottom: 240px;height: 75px;width:  45px;\">\n",
       "    <span style=\"position: absolute;left: 5px;top: 5px;\">b12</span>\n",
       "  </div>\n",
       "  <div id=\"a2\" style=\"position: absolute;box-sizing: border-box;border: 1px solid black;left:   165px;right:  270px;top:    30px;bottom: 270px;height: 240px;width:  105px;\">\n",
       "    <span style=\"position: absolute;left: 5px;top: 5px;\">a2</span>\n",
       "  </div>\n",
       "  <div id=\"b21\" style=\"position: absolute;box-sizing: border-box;border: 1px solid black;left:   195px;right:  240px;top:    60px;bottom: 135px;height: 75px;width:  45px;\">\n",
       "    <span style=\"position: absolute;left: 5px;top: 5px;\">b21</span>\n",
       "  </div>\n",
       "  <div id=\"b22\" style=\"position: absolute;box-sizing: border-box;border: 1px solid black;left:   195px;right:  240px;top:    165px;bottom: 240px;height: 75px;width:  45px;\">\n",
       "    <span style=\"position: absolute;left: 5px;top: 5px;\">b22</span>\n",
       "  </div>\n",
       "</div>"
      ],
      "text/plain": [
       "<IPython.core.display.HTML object>"
      ]
     },
     "metadata": {},
     "output_type": "display_data"
    }
   ],
   "source": [
    "html_str = str(display_view(sample_view, scale=3))\n",
    "display(HTML(html_str))"
   ]
  },
  {
   "cell_type": "code",
   "execution_count": 6,
   "metadata": {},
   "outputs": [],
   "source": [
    "from mockdown.visibility import visible_pairs\n",
    "\n",
    "edge_pairs = visible_pairs(sample_view, deep=True)\n",
    "anchor_pairs = [(e1.anchor, e2.anchor) for (e1, e2) in edge_pairs]"
   ]
  },
  {
   "cell_type": "code",
   "execution_count": 7,
   "metadata": {},
   "outputs": [
    {
     "data": {
      "text/html": [
       "<div id=\"container\" style=\"font-size: 10px;position: relative;width:  300px;height: 300px;\">\n",
       "  <div id=\"p\" style=\"position: absolute;box-sizing: border-box;border: 1px solid black;left:   0px;right:  300px;top:    0px;bottom: 300px;height: 300px;width:  300px;\">\n",
       "    <span style=\"position: absolute;left: 5px;top: 5px;\">p</span>\n",
       "  </div>\n",
       "  <div id=\"a1\" style=\"position: absolute;box-sizing: border-box;border: 1px solid black;left:   30px;right:  135px;top:    30px;bottom: 270px;height: 240px;width:  105px;\">\n",
       "    <span style=\"position: absolute;left: 5px;top: 5px;\">a1</span>\n",
       "  </div>\n",
       "  <div id=\"b11\" style=\"position: absolute;box-sizing: border-box;border: 1px solid black;left:   60px;right:  105px;top:    60px;bottom: 135px;height: 75px;width:  45px;\">\n",
       "    <span style=\"position: absolute;left: 5px;top: 5px;\">b11</span>\n",
       "  </div>\n",
       "  <div id=\"b12\" style=\"position: absolute;box-sizing: border-box;border: 1px solid black;left:   60px;right:  105px;top:    165px;bottom: 240px;height: 75px;width:  45px;\">\n",
       "    <span style=\"position: absolute;left: 5px;top: 5px;\">b12</span>\n",
       "  </div>\n",
       "  <div id=\"a2\" style=\"position: absolute;box-sizing: border-box;border: 1px solid black;left:   165px;right:  270px;top:    30px;bottom: 270px;height: 240px;width:  105px;\">\n",
       "    <span style=\"position: absolute;left: 5px;top: 5px;\">a2</span>\n",
       "  </div>\n",
       "  <div id=\"b21\" style=\"position: absolute;box-sizing: border-box;border: 1px solid black;left:   195px;right:  240px;top:    60px;bottom: 135px;height: 75px;width:  45px;\">\n",
       "    <span style=\"position: absolute;left: 5px;top: 5px;\">b21</span>\n",
       "  </div>\n",
       "  <div id=\"b22\" style=\"position: absolute;box-sizing: border-box;border: 1px solid black;left:   195px;right:  240px;top:    165px;bottom: 240px;height: 75px;width:  45px;\">\n",
       "    <span style=\"position: absolute;left: 5px;top: 5px;\">b22</span>\n",
       "  </div>\n",
       "  <div id=\"p.Attribute.TOP-a1.Attribute.TOP\" style=\"position: absolute;box-sizing: border-box;border: 0.5px dashed red;left:   82.5px;right:  82.5px;top:    0px;bottom: 30px;width:   1px;height: 30px;\"></div>\n",
       "  <div id=\"a1.Attribute.BOTTOM-p.Attribute.BOTTOM\" style=\"position: absolute;box-sizing: border-box;border: 0.5px dashed red;left:   82.5px;right:  82.5px;top:    270px;bottom: 300px;width:   1px;height: 30px;\"></div>\n",
       "  <div id=\"p.Attribute.TOP-a2.Attribute.TOP\" style=\"position: absolute;box-sizing: border-box;border: 0.5px dashed red;left:   217.5px;right:  217.5px;top:    0px;bottom: 30px;width:   1px;height: 30px;\"></div>\n",
       "  <div id=\"a2.Attribute.BOTTOM-p.Attribute.BOTTOM\" style=\"position: absolute;box-sizing: border-box;border: 0.5px dashed red;left:   217.5px;right:  217.5px;top:    270px;bottom: 300px;width:   1px;height: 30px;\"></div>\n",
       "  <div id=\"p.Attribute.LEFT-a1.Attribute.LEFT\" style=\"position: absolute;box-sizing: border-box;border: 0.5px dashed red;left:   0px;right:  30px;top:    150.0px;bottom: 150.0px;width:  30px;height:  1px;\"></div>\n",
       "  <div id=\"a1.Attribute.RIGHT-a2.Attribute.LEFT\" style=\"position: absolute;box-sizing: border-box;border: 0.5px dashed red;left:   135px;right:  165px;top:    150.0px;bottom: 150.0px;width:  30px;height:  1px;\"></div>\n",
       "  <div id=\"a2.Attribute.RIGHT-p.Attribute.RIGHT\" style=\"position: absolute;box-sizing: border-box;border: 0.5px dashed red;left:   270px;right:  300px;top:    150.0px;bottom: 150.0px;width:  30px;height:  1px;\"></div>\n",
       "  <div id=\"a1.Attribute.TOP-b11.Attribute.TOP\" style=\"position: absolute;box-sizing: border-box;border: 0.5px dashed red;left:   82.5px;right:  82.5px;top:    30px;bottom: 60px;width:   1px;height: 30px;\"></div>\n",
       "  <div id=\"b11.Attribute.BOTTOM-b12.Attribute.TOP\" style=\"position: absolute;box-sizing: border-box;border: 0.5px dashed red;left:   82.5px;right:  82.5px;top:    135px;bottom: 165px;width:   1px;height: 30px;\"></div>\n",
       "  <div id=\"b12.Attribute.BOTTOM-a1.Attribute.BOTTOM\" style=\"position: absolute;box-sizing: border-box;border: 0.5px dashed red;left:   82.5px;right:  82.5px;top:    240px;bottom: 270px;width:   1px;height: 30px;\"></div>\n",
       "  <div id=\"a1.Attribute.LEFT-b11.Attribute.LEFT\" style=\"position: absolute;box-sizing: border-box;border: 0.5px dashed red;left:   30px;right:  60px;top:    97.5px;bottom: 97.5px;width:  30px;height:  1px;\"></div>\n",
       "  <div id=\"b11.Attribute.RIGHT-a1.Attribute.RIGHT\" style=\"position: absolute;box-sizing: border-box;border: 0.5px dashed red;left:   105px;right:  135px;top:    97.5px;bottom: 97.5px;width:  30px;height:  1px;\"></div>\n",
       "  <div id=\"a1.Attribute.LEFT-b12.Attribute.LEFT\" style=\"position: absolute;box-sizing: border-box;border: 0.5px dashed red;left:   30px;right:  60px;top:    202.5px;bottom: 202.5px;width:  30px;height:  1px;\"></div>\n",
       "  <div id=\"b12.Attribute.RIGHT-a1.Attribute.RIGHT\" style=\"position: absolute;box-sizing: border-box;border: 0.5px dashed red;left:   105px;right:  135px;top:    202.5px;bottom: 202.5px;width:  30px;height:  1px;\"></div>\n",
       "  <div id=\"a2.Attribute.TOP-b21.Attribute.TOP\" style=\"position: absolute;box-sizing: border-box;border: 0.5px dashed red;left:   217.5px;right:  217.5px;top:    30px;bottom: 60px;width:   1px;height: 30px;\"></div>\n",
       "  <div id=\"b21.Attribute.BOTTOM-b22.Attribute.TOP\" style=\"position: absolute;box-sizing: border-box;border: 0.5px dashed red;left:   217.5px;right:  217.5px;top:    135px;bottom: 165px;width:   1px;height: 30px;\"></div>\n",
       "  <div id=\"b22.Attribute.BOTTOM-a2.Attribute.BOTTOM\" style=\"position: absolute;box-sizing: border-box;border: 0.5px dashed red;left:   217.5px;right:  217.5px;top:    240px;bottom: 270px;width:   1px;height: 30px;\"></div>\n",
       "  <div id=\"a2.Attribute.LEFT-b21.Attribute.LEFT\" style=\"position: absolute;box-sizing: border-box;border: 0.5px dashed red;left:   165px;right:  195px;top:    97.5px;bottom: 97.5px;width:  30px;height:  1px;\"></div>\n",
       "  <div id=\"b21.Attribute.RIGHT-a2.Attribute.RIGHT\" style=\"position: absolute;box-sizing: border-box;border: 0.5px dashed red;left:   240px;right:  270px;top:    97.5px;bottom: 97.5px;width:  30px;height:  1px;\"></div>\n",
       "  <div id=\"a2.Attribute.LEFT-b22.Attribute.LEFT\" style=\"position: absolute;box-sizing: border-box;border: 0.5px dashed red;left:   165px;right:  195px;top:    202.5px;bottom: 202.5px;width:  30px;height:  1px;\"></div>\n",
       "  <div id=\"b22.Attribute.RIGHT-a2.Attribute.RIGHT\" style=\"position: absolute;box-sizing: border-box;border: 0.5px dashed red;left:   240px;right:  270px;top:    202.5px;bottom: 202.5px;width:  30px;height:  1px;\"></div>\n",
       "</div>"
      ],
      "text/plain": [
       "<IPython.core.display.HTML object>"
      ]
     },
     "metadata": {},
     "output_type": "display_data"
    }
   ],
   "source": [
    "html_str = str(display_view(sample_view, visible_pairs=edge_pairs, scale=3))\n",
    "display(HTML(html_str))"
   ]
  },
  {
   "cell_type": "code",
   "execution_count": 8,
   "metadata": {},
   "outputs": [
    {
     "name": "stdout",
     "output_type": "stream",
     "text": [
      "a2.left = 1.0 * a1.right + 0 (priority=1000, samples=0)\n",
      "b12.top = 1.0 * b11.bottom + 0 (priority=1000, samples=0)\n",
      "b22.top = 1.0 * b21.bottom + 0 (priority=1000, samples=0)\n",
      "a1.top = 1.0 * p.top + 0 (priority=1000, samples=0)\n",
      "a1.left = 1.0 * p.left + 0 (priority=1000, samples=0)\n",
      "a1.bottom = 1.0 * p.bottom + 0 (priority=1000, samples=0)\n",
      "a2.top = 1.0 * p.top + 0 (priority=1000, samples=0)\n",
      "a2.bottom = 1.0 * p.bottom + 0 (priority=1000, samples=0)\n",
      "a2.right = 1.0 * p.right + 0 (priority=1000, samples=0)\n",
      "b11.top = 1.0 * a1.top + 0 (priority=1000, samples=0)\n",
      "b11.left = 1.0 * a1.left + 0 (priority=1000, samples=0)\n",
      "b11.right = 1.0 * a1.right + 0 (priority=1000, samples=0)\n",
      "b12.left = 1.0 * a1.left + 0 (priority=1000, samples=0)\n",
      "b12.bottom = 1.0 * a1.bottom + 0 (priority=1000, samples=0)\n",
      "b12.right = 1.0 * a1.right + 0 (priority=1000, samples=0)\n",
      "b21.top = 1.0 * a2.top + 0 (priority=1000, samples=0)\n",
      "b21.left = 1.0 * a2.left + 0 (priority=1000, samples=0)\n",
      "b21.right = 1.0 * a2.right + 0 (priority=1000, samples=0)\n",
      "b22.left = 1.0 * a2.left + 0 (priority=1000, samples=0)\n",
      "b22.bottom = 1.0 * a2.bottom + 0 (priority=1000, samples=0)\n",
      "b22.right = 1.0 * a2.right + 0 (priority=1000, samples=0)\n",
      "a2.top = 1.0 * a1.top + 0 (priority=1000, samples=0)\n",
      "a2.bottom = 1.0 * a1.bottom + 0 (priority=1000, samples=0)\n",
      "a1.top = 1.0 * a2.top + 0 (priority=1000, samples=0)\n",
      "a1.bottom = 1.0 * a2.bottom + 0 (priority=1000, samples=0)\n",
      "b12.left = 1.0 * b11.left + 0 (priority=1000, samples=0)\n",
      "b12.right = 1.0 * b11.right + 0 (priority=1000, samples=0)\n",
      "b11.left = 1.0 * b12.left + 0 (priority=1000, samples=0)\n",
      "b11.right = 1.0 * b12.right + 0 (priority=1000, samples=0)\n",
      "b22.left = 1.0 * b21.left + 0 (priority=1000, samples=0)\n",
      "b22.right = 1.0 * b21.right + 0 (priority=1000, samples=0)\n",
      "b21.left = 1.0 * b22.left + 0 (priority=1000, samples=0)\n",
      "b21.right = 1.0 * b22.right + 0 (priority=1000, samples=0)\n"
     ]
    }
   ],
   "source": [
    "from mockdown.logic import valid_constraints\n",
    "constraints = list(valid_constraints(sample_view, anchor_pairs))\n",
    "\n",
    "for constraint in constraints:\n",
    "    print(str(constraint))"
   ]
  },
  {
   "cell_type": "code",
   "execution_count": 9,
   "metadata": {},
   "outputs": [
    {
     "ename": "NotImplementedError",
     "evalue": "",
     "output_type": "error",
     "traceback": [
      "\u001b[0;31m---------------------------------------------------------------------------\u001b[0m",
      "\u001b[0;31mNotImplementedError\u001b[0m                       Traceback (most recent call last)",
      "\u001b[0;32m<ipython-input-9-65e687d9c8d0>\u001b[0m in \u001b[0;36m<module>\u001b[0;34m\u001b[0m\n\u001b[0;32m----> 1\u001b[0;31m \u001b[0mhtml_str\u001b[0m \u001b[0;34m=\u001b[0m \u001b[0mstr\u001b[0m\u001b[0;34m(\u001b[0m\u001b[0mdisplay_view\u001b[0m\u001b[0;34m(\u001b[0m\u001b[0msample_view\u001b[0m\u001b[0;34m,\u001b[0m \u001b[0mconstraints\u001b[0m\u001b[0;34m=\u001b[0m\u001b[0mconstraints\u001b[0m\u001b[0;34m,\u001b[0m \u001b[0mscale\u001b[0m\u001b[0;34m=\u001b[0m\u001b[0;36m5\u001b[0m\u001b[0;34m)\u001b[0m\u001b[0;34m)\u001b[0m\u001b[0;34m\u001b[0m\u001b[0;34m\u001b[0m\u001b[0m\n\u001b[0m\u001b[1;32m      2\u001b[0m \u001b[0mdisplay\u001b[0m\u001b[0;34m(\u001b[0m\u001b[0mHTML\u001b[0m\u001b[0;34m(\u001b[0m\u001b[0mhtml_str\u001b[0m\u001b[0;34m)\u001b[0m\u001b[0;34m)\u001b[0m\u001b[0;34m\u001b[0m\u001b[0;34m\u001b[0m\u001b[0m\n",
      "\u001b[0;32m~/Projects/mockdown/mockdown/display/view.py\u001b[0m in \u001b[0;36mdisplay_view\u001b[0;34m(view, visible_pairs, constraints, scale)\u001b[0m\n\u001b[1;32m     59\u001b[0m \u001b[0;34m\u001b[0m\u001b[0m\n\u001b[1;32m     60\u001b[0m     \u001b[0;32mfor\u001b[0m \u001b[0mconstraint\u001b[0m \u001b[0;32min\u001b[0m \u001b[0mconstraints\u001b[0m\u001b[0;34m:\u001b[0m\u001b[0;34m\u001b[0m\u001b[0;34m\u001b[0m\u001b[0m\n\u001b[0;32m---> 61\u001b[0;31m         \u001b[0mcontainer\u001b[0m\u001b[0;34m.\u001b[0m\u001b[0madd\u001b[0m\u001b[0;34m(\u001b[0m\u001b[0mconstraint_to_html\u001b[0m\u001b[0;34m(\u001b[0m\u001b[0mconstraint\u001b[0m\u001b[0;34m,\u001b[0m \u001b[0mview\u001b[0m\u001b[0;34m,\u001b[0m \u001b[0mscale\u001b[0m\u001b[0;34m=\u001b[0m\u001b[0mscale\u001b[0m\u001b[0;34m)\u001b[0m\u001b[0;34m)\u001b[0m\u001b[0;34m\u001b[0m\u001b[0;34m\u001b[0m\u001b[0m\n\u001b[0m\u001b[1;32m     62\u001b[0m \u001b[0;34m\u001b[0m\u001b[0m\n\u001b[1;32m     63\u001b[0m     \u001b[0;32mreturn\u001b[0m \u001b[0mcontainer\u001b[0m\u001b[0;34m\u001b[0m\u001b[0;34m\u001b[0m\u001b[0m\n",
      "\u001b[0;32m~/Projects/mockdown/mockdown/display/constraint.py\u001b[0m in \u001b[0;36mconstraint_to_html\u001b[0;34m(pair, view, scale)\u001b[0m\n\u001b[1;32m     75\u001b[0m         \u001b[0;32mreturn\u001b[0m \u001b[0mspacing_constraint_to_html\u001b[0m\u001b[0;34m(\u001b[0m\u001b[0mpair\u001b[0m\u001b[0;34m,\u001b[0m \u001b[0mview\u001b[0m\u001b[0;34m,\u001b[0m \u001b[0mscale\u001b[0m\u001b[0;34m=\u001b[0m\u001b[0mscale\u001b[0m\u001b[0;34m)\u001b[0m\u001b[0;34m\u001b[0m\u001b[0;34m\u001b[0m\u001b[0m\n\u001b[1;32m     76\u001b[0m     \u001b[0;32melif\u001b[0m \u001b[0misinstance\u001b[0m\u001b[0;34m(\u001b[0m\u001b[0mpair\u001b[0m\u001b[0;34m,\u001b[0m \u001b[0mAlignmentConstraint\u001b[0m\u001b[0;34m)\u001b[0m\u001b[0;34m:\u001b[0m\u001b[0;34m\u001b[0m\u001b[0;34m\u001b[0m\u001b[0m\n\u001b[0;32m---> 77\u001b[0;31m         \u001b[0;32mreturn\u001b[0m \u001b[0malignment_constraint_to_html\u001b[0m\u001b[0;34m(\u001b[0m\u001b[0mpair\u001b[0m\u001b[0;34m,\u001b[0m \u001b[0mview\u001b[0m\u001b[0;34m,\u001b[0m \u001b[0mscale\u001b[0m\u001b[0;34m=\u001b[0m\u001b[0mscale\u001b[0m\u001b[0;34m)\u001b[0m\u001b[0;34m\u001b[0m\u001b[0;34m\u001b[0m\u001b[0m\n\u001b[0m\u001b[1;32m     78\u001b[0m     \u001b[0;32melse\u001b[0m\u001b[0;34m:\u001b[0m\u001b[0;34m\u001b[0m\u001b[0;34m\u001b[0m\u001b[0m\n\u001b[1;32m     79\u001b[0m         \u001b[0;32mraise\u001b[0m \u001b[0mNotImplementedError\u001b[0m\u001b[0;34m(\u001b[0m\u001b[0;34m)\u001b[0m\u001b[0;34m\u001b[0m\u001b[0;34m\u001b[0m\u001b[0m\n",
      "\u001b[0;32m~/Projects/mockdown/mockdown/display/constraint.py\u001b[0m in \u001b[0;36malignment_constraint_to_html\u001b[0;34m(constraint, view, scale)\u001b[0m\n\u001b[1;32m     63\u001b[0m     \u001b[0ma2\u001b[0m \u001b[0;34m=\u001b[0m \u001b[0mview\u001b[0m\u001b[0;34m.\u001b[0m\u001b[0mget_anchor\u001b[0m\u001b[0;34m(\u001b[0m\u001b[0mconstraint\u001b[0m\u001b[0;34m.\u001b[0m\u001b[0my\u001b[0m\u001b[0;34m)\u001b[0m\u001b[0;34m\u001b[0m\u001b[0;34m\u001b[0m\u001b[0m\n\u001b[1;32m     64\u001b[0m \u001b[0;34m\u001b[0m\u001b[0m\n\u001b[0;32m---> 65\u001b[0;31m     \u001b[0mstyle\u001b[0m \u001b[0;34m=\u001b[0m \u001b[0malignment_constraint_style\u001b[0m\u001b[0;34m(\u001b[0m\u001b[0mconstraint\u001b[0m\u001b[0;34m,\u001b[0m \u001b[0mview\u001b[0m\u001b[0;34m,\u001b[0m \u001b[0mscale\u001b[0m\u001b[0;34m=\u001b[0m\u001b[0mscale\u001b[0m\u001b[0;34m)\u001b[0m\u001b[0;34m\u001b[0m\u001b[0;34m\u001b[0m\u001b[0m\n\u001b[0m\u001b[1;32m     66\u001b[0m     \u001b[0mdiv_id\u001b[0m \u001b[0;34m=\u001b[0m \u001b[0;34mf\"{a1.name}-{a2.name}\"\u001b[0m\u001b[0;34m\u001b[0m\u001b[0;34m\u001b[0m\u001b[0m\n\u001b[1;32m     67\u001b[0m \u001b[0;34m\u001b[0m\u001b[0m\n",
      "\u001b[0;32m~/Projects/mockdown/mockdown/display/constraint.py\u001b[0m in \u001b[0;36malignment_constraint_style\u001b[0;34m(constraint, view, scale)\u001b[0m\n\u001b[1;32m     54\u001b[0m         \u001b[0mstyle\u001b[0m\u001b[0;34m.\u001b[0m\u001b[0mappend\u001b[0m\u001b[0;34m(\u001b[0m\u001b[0mhorizontal_line_style\u001b[0m\u001b[0;34m(\u001b[0m\u001b[0;34m*\u001b[0m\u001b[0mstyle_args\u001b[0m\u001b[0;34m,\u001b[0m \u001b[0;34m**\u001b[0m\u001b[0mstyle_kwargs\u001b[0m\u001b[0;34m)\u001b[0m\u001b[0;34m)\u001b[0m\u001b[0;34m\u001b[0m\u001b[0;34m\u001b[0m\u001b[0m\n\u001b[1;32m     55\u001b[0m     \u001b[0;32melse\u001b[0m\u001b[0;34m:\u001b[0m\u001b[0;34m\u001b[0m\u001b[0;34m\u001b[0m\u001b[0m\n\u001b[0;32m---> 56\u001b[0;31m         \u001b[0;32mraise\u001b[0m \u001b[0mNotImplementedError\u001b[0m\u001b[0;34m(\u001b[0m\u001b[0;34m)\u001b[0m\u001b[0;34m\u001b[0m\u001b[0;34m\u001b[0m\u001b[0m\n\u001b[0m\u001b[1;32m     57\u001b[0m \u001b[0;34m\u001b[0m\u001b[0m\n\u001b[1;32m     58\u001b[0m     \u001b[0;32mreturn\u001b[0m \u001b[0;34m\"\"\u001b[0m\u001b[0;34m.\u001b[0m\u001b[0mjoin\u001b[0m\u001b[0;34m(\u001b[0m\u001b[0mstyle\u001b[0m\u001b[0;34m)\u001b[0m\u001b[0;34m\u001b[0m\u001b[0;34m\u001b[0m\u001b[0m\n",
      "\u001b[0;31mNotImplementedError\u001b[0m: "
     ]
    }
   ],
   "source": [
    "html_str = str(display_view(sample_view, constraints=constraints, scale=5))\n",
    "display(HTML(html_str))"
   ]
  },
  {
   "cell_type": "code",
   "execution_count": null,
   "metadata": {},
   "outputs": [],
   "source": []
  },
  {
   "cell_type": "code",
   "execution_count": null,
   "metadata": {},
   "outputs": [],
   "source": []
  }
 ],
 "metadata": {
  "kernelspec": {
   "display_name": "Python 3",
   "language": "python",
   "name": "python3"
  },
  "language_info": {
   "codemirror_mode": {
    "name": "ipython",
    "version": 3
   },
   "file_extension": ".py",
   "mimetype": "text/x-python",
   "name": "python",
   "nbconvert_exporter": "python",
   "pygments_lexer": "ipython3",
   "version": "3.7.3"
  }
 },
 "nbformat": 4,
 "nbformat_minor": 4
}
