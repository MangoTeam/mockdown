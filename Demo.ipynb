{
 "cells": [
  {
   "cell_type": "code",
   "execution_count": 1,
   "metadata": {},
   "outputs": [],
   "source": [
    "%reload_ext autoreload\n",
    "%autoreload 2"
   ]
  },
  {
   "cell_type": "code",
   "execution_count": 2,
   "metadata": {},
   "outputs": [],
   "source": [
    "from IPython.core.display import display, HTML\n",
    "from IPython.lib.pretty import pprint\n",
    "from itertools import chain"
   ]
  },
  {
   "cell_type": "code",
   "execution_count": 3,
   "metadata": {},
   "outputs": [],
   "source": [
    "from mockdown.view import View"
   ]
  },
  {
   "cell_type": "code",
   "execution_count": 4,
   "metadata": {},
   "outputs": [],
   "source": [
    "sample_view = View(\"p\", (0, 0, 100, 100), children=[\n",
    "    View(\"a1\", (10, 10, 45, 90), children=[\n",
    "        View(\"b11\", (20, 20, 35, 45)),\n",
    "        View(\"b12\", (20, 55, 35, 80))\n",
    "    ]),\n",
    "    View(\"a2\", (55, 10, 90, 90), children=[\n",
    "        View(\"b21\", (65, 20, 80, 45)),\n",
    "        View(\"b22\", (65, 55, 80, 80))\n",
    "    ])\n",
    "])"
   ]
  },
  {
   "cell_type": "code",
   "execution_count": 5,
   "metadata": {},
   "outputs": [
    {
     "data": {
      "text/html": [
       "<div id=\"container\" style=\"font-size: 10px;position: relative;width:  200px;height: 200px;\">\n",
       "  <div id=\"p\" style=\"position: absolute;box-sizing: border-box;border: 1px solid black;left:   0px;right:  200px;top:    0px;bottom: 200px;height: 200px;width:  200px;\">\n",
       "    <span style=\"position: absolute;left: 5px;top: 5px;\">p</span>\n",
       "  </div>\n",
       "  <div id=\"a1\" style=\"position: absolute;box-sizing: border-box;border: 1px solid black;left:   20px;right:  90px;top:    20px;bottom: 180px;height: 160px;width:  70px;\">\n",
       "    <span style=\"position: absolute;left: 5px;top: 5px;\">a1</span>\n",
       "  </div>\n",
       "  <div id=\"b11\" style=\"position: absolute;box-sizing: border-box;border: 1px solid black;left:   40px;right:  70px;top:    40px;bottom: 90px;height: 50px;width:  30px;\">\n",
       "    <span style=\"position: absolute;left: 5px;top: 5px;\">b11</span>\n",
       "  </div>\n",
       "  <div id=\"b12\" style=\"position: absolute;box-sizing: border-box;border: 1px solid black;left:   40px;right:  70px;top:    110px;bottom: 160px;height: 50px;width:  30px;\">\n",
       "    <span style=\"position: absolute;left: 5px;top: 5px;\">b12</span>\n",
       "  </div>\n",
       "  <div id=\"a2\" style=\"position: absolute;box-sizing: border-box;border: 1px solid black;left:   110px;right:  180px;top:    20px;bottom: 180px;height: 160px;width:  70px;\">\n",
       "    <span style=\"position: absolute;left: 5px;top: 5px;\">a2</span>\n",
       "  </div>\n",
       "  <div id=\"b21\" style=\"position: absolute;box-sizing: border-box;border: 1px solid black;left:   130px;right:  160px;top:    40px;bottom: 90px;height: 50px;width:  30px;\">\n",
       "    <span style=\"position: absolute;left: 5px;top: 5px;\">b21</span>\n",
       "  </div>\n",
       "  <div id=\"b22\" style=\"position: absolute;box-sizing: border-box;border: 1px solid black;left:   130px;right:  160px;top:    110px;bottom: 160px;height: 50px;width:  30px;\">\n",
       "    <span style=\"position: absolute;left: 5px;top: 5px;\">b22</span>\n",
       "  </div>\n",
       "</div>"
      ],
      "text/plain": [
       "<IPython.core.display.HTML object>"
      ]
     },
     "metadata": {},
     "output_type": "display_data"
    }
   ],
   "source": [
    "html_str = str(sample_view.to_display_html(scale=2))\n",
    "display(HTML(html_str))"
   ]
  },
  {
   "cell_type": "code",
   "execution_count": 6,
   "metadata": {},
   "outputs": [],
   "source": [
    "from mockdown.visibility import visible_pairs\n",
    "\n",
    "edge_pairs = visible_pairs(sample_view, deep=True)\n",
    "anchor_pairs = [(e1.anchor, e2.anchor) for (e1, e2) in edge_pairs]"
   ]
  },
  {
   "cell_type": "code",
   "execution_count": 7,
   "metadata": {},
   "outputs": [
    {
     "data": {
      "text/html": [
       "<div id=\"container\" style=\"font-size: 10px;position: relative;width:  200px;height: 200px;\">\n",
       "  <div id=\"p\" style=\"position: absolute;box-sizing: border-box;border: 1px solid black;left:   0px;right:  200px;top:    0px;bottom: 200px;height: 200px;width:  200px;\">\n",
       "    <span style=\"position: absolute;left: 5px;top: 5px;\">p</span>\n",
       "  </div>\n",
       "  <div id=\"a1\" style=\"position: absolute;box-sizing: border-box;border: 1px solid black;left:   20px;right:  90px;top:    20px;bottom: 180px;height: 160px;width:  70px;\">\n",
       "    <span style=\"position: absolute;left: 5px;top: 5px;\">a1</span>\n",
       "  </div>\n",
       "  <div id=\"b11\" style=\"position: absolute;box-sizing: border-box;border: 1px solid black;left:   40px;right:  70px;top:    40px;bottom: 90px;height: 50px;width:  30px;\">\n",
       "    <span style=\"position: absolute;left: 5px;top: 5px;\">b11</span>\n",
       "  </div>\n",
       "  <div id=\"b12\" style=\"position: absolute;box-sizing: border-box;border: 1px solid black;left:   40px;right:  70px;top:    110px;bottom: 160px;height: 50px;width:  30px;\">\n",
       "    <span style=\"position: absolute;left: 5px;top: 5px;\">b12</span>\n",
       "  </div>\n",
       "  <div id=\"a2\" style=\"position: absolute;box-sizing: border-box;border: 1px solid black;left:   110px;right:  180px;top:    20px;bottom: 180px;height: 160px;width:  70px;\">\n",
       "    <span style=\"position: absolute;left: 5px;top: 5px;\">a2</span>\n",
       "  </div>\n",
       "  <div id=\"b21\" style=\"position: absolute;box-sizing: border-box;border: 1px solid black;left:   130px;right:  160px;top:    40px;bottom: 90px;height: 50px;width:  30px;\">\n",
       "    <span style=\"position: absolute;left: 5px;top: 5px;\">b21</span>\n",
       "  </div>\n",
       "  <div id=\"b22\" style=\"position: absolute;box-sizing: border-box;border: 1px solid black;left:   130px;right:  160px;top:    110px;bottom: 160px;height: 50px;width:  30px;\">\n",
       "    <span style=\"position: absolute;left: 5px;top: 5px;\">b22</span>\n",
       "  </div>\n",
       "  <div id=\"p.top-a1.top\" style=\"position: absolute;box-sizing: border-box;border: 0.5px dashed red;left: 55.0px;right: 55.0px;top: 0px;bottom: 20px;width: 1px;height: 20px;\"></div>\n",
       "  <div id=\"a1.bottom-p.bottom\" style=\"position: absolute;box-sizing: border-box;border: 0.5px dashed red;left: 55.0px;right: 55.0px;top: 180px;bottom: 200px;width: 1px;height: 20px;\"></div>\n",
       "  <div id=\"p.top-a2.top\" style=\"position: absolute;box-sizing: border-box;border: 0.5px dashed red;left: 145.0px;right: 145.0px;top: 0px;bottom: 20px;width: 1px;height: 20px;\"></div>\n",
       "  <div id=\"a2.bottom-p.bottom\" style=\"position: absolute;box-sizing: border-box;border: 0.5px dashed red;left: 145.0px;right: 145.0px;top: 180px;bottom: 200px;width: 1px;height: 20px;\"></div>\n",
       "  <div id=\"p.left-a1.left\" style=\"position: absolute;box-sizing: border-box;border: 0.5px dashed red;left: 0px;right: 20px;top: 100.0px;bottom: 100.0px;width: 20px;height: 1px;\"></div>\n",
       "  <div id=\"a1.right-a2.left\" style=\"position: absolute;box-sizing: border-box;border: 0.5px dashed red;left: 90px;right: 110px;top: 100.0px;bottom: 100.0px;width: 20px;height: 1px;\"></div>\n",
       "  <div id=\"a2.right-p.right\" style=\"position: absolute;box-sizing: border-box;border: 0.5px dashed red;left: 180px;right: 200px;top: 100.0px;bottom: 100.0px;width: 20px;height: 1px;\"></div>\n",
       "  <div id=\"a1.top-b11.top\" style=\"position: absolute;box-sizing: border-box;border: 0.5px dashed red;left: 55.0px;right: 55.0px;top: 20px;bottom: 40px;width: 1px;height: 20px;\"></div>\n",
       "  <div id=\"b11.bottom-b12.top\" style=\"position: absolute;box-sizing: border-box;border: 0.5px dashed red;left: 55.0px;right: 55.0px;top: 90px;bottom: 110px;width: 1px;height: 20px;\"></div>\n",
       "  <div id=\"b12.bottom-a1.bottom\" style=\"position: absolute;box-sizing: border-box;border: 0.5px dashed red;left: 55.0px;right: 55.0px;top: 160px;bottom: 180px;width: 1px;height: 20px;\"></div>\n",
       "  <div id=\"a1.left-b11.left\" style=\"position: absolute;box-sizing: border-box;border: 0.5px dashed red;left: 20px;right: 40px;top: 65.0px;bottom: 65.0px;width: 20px;height: 1px;\"></div>\n",
       "  <div id=\"b11.right-a1.right\" style=\"position: absolute;box-sizing: border-box;border: 0.5px dashed red;left: 70px;right: 90px;top: 65.0px;bottom: 65.0px;width: 20px;height: 1px;\"></div>\n",
       "  <div id=\"a1.left-b12.left\" style=\"position: absolute;box-sizing: border-box;border: 0.5px dashed red;left: 20px;right: 40px;top: 135.0px;bottom: 135.0px;width: 20px;height: 1px;\"></div>\n",
       "  <div id=\"b12.right-a1.right\" style=\"position: absolute;box-sizing: border-box;border: 0.5px dashed red;left: 70px;right: 90px;top: 135.0px;bottom: 135.0px;width: 20px;height: 1px;\"></div>\n",
       "  <div id=\"a2.top-b21.top\" style=\"position: absolute;box-sizing: border-box;border: 0.5px dashed red;left: 145.0px;right: 145.0px;top: 20px;bottom: 40px;width: 1px;height: 20px;\"></div>\n",
       "  <div id=\"b21.bottom-b22.top\" style=\"position: absolute;box-sizing: border-box;border: 0.5px dashed red;left: 145.0px;right: 145.0px;top: 90px;bottom: 110px;width: 1px;height: 20px;\"></div>\n",
       "  <div id=\"b22.bottom-a2.bottom\" style=\"position: absolute;box-sizing: border-box;border: 0.5px dashed red;left: 145.0px;right: 145.0px;top: 160px;bottom: 180px;width: 1px;height: 20px;\"></div>\n",
       "  <div id=\"a2.left-b21.left\" style=\"position: absolute;box-sizing: border-box;border: 0.5px dashed red;left: 110px;right: 130px;top: 65.0px;bottom: 65.0px;width: 20px;height: 1px;\"></div>\n",
       "  <div id=\"b21.right-a2.right\" style=\"position: absolute;box-sizing: border-box;border: 0.5px dashed red;left: 160px;right: 180px;top: 65.0px;bottom: 65.0px;width: 20px;height: 1px;\"></div>\n",
       "  <div id=\"a2.left-b22.left\" style=\"position: absolute;box-sizing: border-box;border: 0.5px dashed red;left: 110px;right: 130px;top: 135.0px;bottom: 135.0px;width: 20px;height: 1px;\"></div>\n",
       "  <div id=\"b22.right-a2.right\" style=\"position: absolute;box-sizing: border-box;border: 0.5px dashed red;left: 160px;right: 180px;top: 135.0px;bottom: 135.0px;width: 20px;height: 1px;\"></div>\n",
       "</div>"
      ],
      "text/plain": [
       "<IPython.core.display.HTML object>"
      ]
     },
     "metadata": {},
     "output_type": "display_data"
    }
   ],
   "source": [
    "html_str = str(sample_view.to_display_html(edge_pairs, scale=2))\n",
    "display(HTML(html_str))"
   ]
  },
  {
   "cell_type": "code",
   "execution_count": 10,
   "metadata": {},
   "outputs": [
    {
     "name": "stdout",
     "output_type": "stream",
     "text": [
      "dict_keys(['__name__', '__doc__', '__package__', '__loader__', '__spec__', '__builtin__', '__builtins__', '_ih', '_oh', '_dh', 'In', 'Out', 'get_ipython', 'exit', 'quit', '_', '__', '___', '_i', '_ii', '_iii', '_i1', '_i2', 'display', 'HTML', 'pprint', 'chain', '_i3', 'View', '_i4', 'sample_view', '_i5', 'html_str', '_i6', 'visible_pairs', 'edge_pairs', 'anchor_pairs', '_i7', '_i8', 'constraint_pairs', '_i9', '_i10'])\n"
     ]
    }
   ],
   "source": [
    "from mockdown.datalog import constraint_pairs\n",
    "constraint_pairs(sample_view, anchor_pairs)"
   ]
  },
  {
   "cell_type": "code",
   "execution_count": null,
   "metadata": {},
   "outputs": [],
   "source": []
  }
 ],
 "metadata": {
  "kernelspec": {
   "display_name": "Python 3",
   "language": "python",
   "name": "python3"
  },
  "language_info": {
   "codemirror_mode": {
    "name": "ipython",
    "version": 3
   },
   "file_extension": ".py",
   "mimetype": "text/x-python",
   "name": "python",
   "nbconvert_exporter": "python",
   "pygments_lexer": "ipython3",
   "version": "3.7.3"
  }
 },
 "nbformat": 4,
 "nbformat_minor": 4
}
