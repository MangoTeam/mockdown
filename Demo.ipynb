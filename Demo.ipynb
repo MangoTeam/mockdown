{
 "cells": [
  {
   "cell_type": "code",
   "execution_count": 17,
   "metadata": {},
   "outputs": [],
   "source": [
    "%reload_ext autoreload\n",
    "%autoreload 2"
   ]
  },
  {
   "cell_type": "code",
   "execution_count": 18,
   "metadata": {},
   "outputs": [],
   "source": [
    "from IPython.core.display import display, HTML\n",
    "from IPython.lib.pretty import pprint\n",
    "from itertools import chain"
   ]
  },
  {
   "cell_type": "code",
   "execution_count": 19,
   "metadata": {},
   "outputs": [],
   "source": [
    "from mockdown.view import View\n",
    "from mockdown.display.view import display_view"
   ]
  },
  {
   "cell_type": "code",
   "execution_count": 20,
   "metadata": {},
   "outputs": [],
   "source": [
    "sample_view = View(\"p\", (0, 0, 100, 100), children=[\n",
    "    View(\"a1\", (10, 10, 45, 90), children=[\n",
    "        View(\"b11\", (20, 20, 35, 45)),\n",
    "        View(\"b12\", (20, 55, 35, 80))\n",
    "    ]),\n",
    "    View(\"a2\", (55, 10, 90, 90), children=[\n",
    "        View(\"b21\", (65, 20, 80, 45)),\n",
    "        View(\"b22\", (65, 55, 80, 80))\n",
    "    ])\n",
    "])"
   ]
  },
  {
   "cell_type": "code",
   "execution_count": 21,
   "metadata": {},
   "outputs": [
    {
     "data": {
      "text/html": [
       "<div id=\"container\" style=\"font-size: 10px;position: relative;width:  300px;height: 300px;\">\n",
       "  <div id=\"p\" style=\"position: absolute;box-sizing: border-box;border: 1px solid black;left:   0px;right:  300px;top:    0px;bottom: 300px;height: 300px;width:  300px;\">\n",
       "    <span style=\"position: absolute;left: 5px;top: 5px;\">p</span>\n",
       "  </div>\n",
       "  <div id=\"a1\" style=\"position: absolute;box-sizing: border-box;border: 1px solid black;left:   30px;right:  135px;top:    30px;bottom: 270px;height: 240px;width:  105px;\">\n",
       "    <span style=\"position: absolute;left: 5px;top: 5px;\">a1</span>\n",
       "  </div>\n",
       "  <div id=\"b11\" style=\"position: absolute;box-sizing: border-box;border: 1px solid black;left:   60px;right:  105px;top:    60px;bottom: 135px;height: 75px;width:  45px;\">\n",
       "    <span style=\"position: absolute;left: 5px;top: 5px;\">b11</span>\n",
       "  </div>\n",
       "  <div id=\"b12\" style=\"position: absolute;box-sizing: border-box;border: 1px solid black;left:   60px;right:  105px;top:    165px;bottom: 240px;height: 75px;width:  45px;\">\n",
       "    <span style=\"position: absolute;left: 5px;top: 5px;\">b12</span>\n",
       "  </div>\n",
       "  <div id=\"a2\" style=\"position: absolute;box-sizing: border-box;border: 1px solid black;left:   165px;right:  270px;top:    30px;bottom: 270px;height: 240px;width:  105px;\">\n",
       "    <span style=\"position: absolute;left: 5px;top: 5px;\">a2</span>\n",
       "  </div>\n",
       "  <div id=\"b21\" style=\"position: absolute;box-sizing: border-box;border: 1px solid black;left:   195px;right:  240px;top:    60px;bottom: 135px;height: 75px;width:  45px;\">\n",
       "    <span style=\"position: absolute;left: 5px;top: 5px;\">b21</span>\n",
       "  </div>\n",
       "  <div id=\"b22\" style=\"position: absolute;box-sizing: border-box;border: 1px solid black;left:   195px;right:  240px;top:    165px;bottom: 240px;height: 75px;width:  45px;\">\n",
       "    <span style=\"position: absolute;left: 5px;top: 5px;\">b22</span>\n",
       "  </div>\n",
       "</div>"
      ],
      "text/plain": [
       "<IPython.core.display.HTML object>"
      ]
     },
     "metadata": {},
     "output_type": "display_data"
    }
   ],
   "source": [
    "html_str = str(display_view(sample_view, scale=3))\n",
    "display(HTML(html_str))"
   ]
  },
  {
   "cell_type": "code",
   "execution_count": 22,
   "metadata": {},
   "outputs": [],
   "source": [
    "from mockdown.visibility import visible_pairs\n",
    "\n",
    "edge_pairs = visible_pairs(sample_view, deep=True)\n",
    "anchor_pairs = [(e1.anchor, e2.anchor) for (e1, e2) in edge_pairs]"
   ]
  },
  {
   "cell_type": "code",
   "execution_count": 23,
   "metadata": {},
   "outputs": [
    {
     "data": {
      "text/html": [
       "<div id=\"container\" style=\"font-size: 10px;position: relative;width:  300px;height: 300px;\">\n",
       "  <div id=\"p\" style=\"position: absolute;box-sizing: border-box;border: 1px solid black;left:   0px;right:  300px;top:    0px;bottom: 300px;height: 300px;width:  300px;\">\n",
       "    <span style=\"position: absolute;left: 5px;top: 5px;\">p</span>\n",
       "  </div>\n",
       "  <div id=\"a1\" style=\"position: absolute;box-sizing: border-box;border: 1px solid black;left:   30px;right:  135px;top:    30px;bottom: 270px;height: 240px;width:  105px;\">\n",
       "    <span style=\"position: absolute;left: 5px;top: 5px;\">a1</span>\n",
       "  </div>\n",
       "  <div id=\"b11\" style=\"position: absolute;box-sizing: border-box;border: 1px solid black;left:   60px;right:  105px;top:    60px;bottom: 135px;height: 75px;width:  45px;\">\n",
       "    <span style=\"position: absolute;left: 5px;top: 5px;\">b11</span>\n",
       "  </div>\n",
       "  <div id=\"b12\" style=\"position: absolute;box-sizing: border-box;border: 1px solid black;left:   60px;right:  105px;top:    165px;bottom: 240px;height: 75px;width:  45px;\">\n",
       "    <span style=\"position: absolute;left: 5px;top: 5px;\">b12</span>\n",
       "  </div>\n",
       "  <div id=\"a2\" style=\"position: absolute;box-sizing: border-box;border: 1px solid black;left:   165px;right:  270px;top:    30px;bottom: 270px;height: 240px;width:  105px;\">\n",
       "    <span style=\"position: absolute;left: 5px;top: 5px;\">a2</span>\n",
       "  </div>\n",
       "  <div id=\"b21\" style=\"position: absolute;box-sizing: border-box;border: 1px solid black;left:   195px;right:  240px;top:    60px;bottom: 135px;height: 75px;width:  45px;\">\n",
       "    <span style=\"position: absolute;left: 5px;top: 5px;\">b21</span>\n",
       "  </div>\n",
       "  <div id=\"b22\" style=\"position: absolute;box-sizing: border-box;border: 1px solid black;left:   195px;right:  240px;top:    165px;bottom: 240px;height: 75px;width:  45px;\">\n",
       "    <span style=\"position: absolute;left: 5px;top: 5px;\">b22</span>\n",
       "  </div>\n",
       "  <div id=\"p.top-a1.top\" style=\"position: absolute;box-sizing: border-box;border: 0.5px dashed red;left: 82.5px;right: 82.5px;top: 0px;bottom: 30px;width: 1px;height: 30px;\"></div>\n",
       "  <div id=\"a1.bottom-p.bottom\" style=\"position: absolute;box-sizing: border-box;border: 0.5px dashed red;left: 82.5px;right: 82.5px;top: 270px;bottom: 300px;width: 1px;height: 30px;\"></div>\n",
       "  <div id=\"p.top-a2.top\" style=\"position: absolute;box-sizing: border-box;border: 0.5px dashed red;left: 217.5px;right: 217.5px;top: 0px;bottom: 30px;width: 1px;height: 30px;\"></div>\n",
       "  <div id=\"a2.bottom-p.bottom\" style=\"position: absolute;box-sizing: border-box;border: 0.5px dashed red;left: 217.5px;right: 217.5px;top: 270px;bottom: 300px;width: 1px;height: 30px;\"></div>\n",
       "  <div id=\"p.left-a1.left\" style=\"position: absolute;box-sizing: border-box;border: 0.5px dashed red;left: 0px;right: 30px;top: 150.0px;bottom: 150.0px;width: 30px;height: 1px;\"></div>\n",
       "  <div id=\"a1.right-a2.left\" style=\"position: absolute;box-sizing: border-box;border: 0.5px dashed red;left: 135px;right: 165px;top: 150.0px;bottom: 150.0px;width: 30px;height: 1px;\"></div>\n",
       "  <div id=\"a2.right-p.right\" style=\"position: absolute;box-sizing: border-box;border: 0.5px dashed red;left: 270px;right: 300px;top: 150.0px;bottom: 150.0px;width: 30px;height: 1px;\"></div>\n",
       "  <div id=\"a1.top-b11.top\" style=\"position: absolute;box-sizing: border-box;border: 0.5px dashed red;left: 82.5px;right: 82.5px;top: 30px;bottom: 60px;width: 1px;height: 30px;\"></div>\n",
       "  <div id=\"b11.bottom-b12.top\" style=\"position: absolute;box-sizing: border-box;border: 0.5px dashed red;left: 82.5px;right: 82.5px;top: 135px;bottom: 165px;width: 1px;height: 30px;\"></div>\n",
       "  <div id=\"b12.bottom-a1.bottom\" style=\"position: absolute;box-sizing: border-box;border: 0.5px dashed red;left: 82.5px;right: 82.5px;top: 240px;bottom: 270px;width: 1px;height: 30px;\"></div>\n",
       "  <div id=\"a1.left-b11.left\" style=\"position: absolute;box-sizing: border-box;border: 0.5px dashed red;left: 30px;right: 60px;top: 97.5px;bottom: 97.5px;width: 30px;height: 1px;\"></div>\n",
       "  <div id=\"b11.right-a1.right\" style=\"position: absolute;box-sizing: border-box;border: 0.5px dashed red;left: 105px;right: 135px;top: 97.5px;bottom: 97.5px;width: 30px;height: 1px;\"></div>\n",
       "  <div id=\"a1.left-b12.left\" style=\"position: absolute;box-sizing: border-box;border: 0.5px dashed red;left: 30px;right: 60px;top: 202.5px;bottom: 202.5px;width: 30px;height: 1px;\"></div>\n",
       "  <div id=\"b12.right-a1.right\" style=\"position: absolute;box-sizing: border-box;border: 0.5px dashed red;left: 105px;right: 135px;top: 202.5px;bottom: 202.5px;width: 30px;height: 1px;\"></div>\n",
       "  <div id=\"a2.top-b21.top\" style=\"position: absolute;box-sizing: border-box;border: 0.5px dashed red;left: 217.5px;right: 217.5px;top: 30px;bottom: 60px;width: 1px;height: 30px;\"></div>\n",
       "  <div id=\"b21.bottom-b22.top\" style=\"position: absolute;box-sizing: border-box;border: 0.5px dashed red;left: 217.5px;right: 217.5px;top: 135px;bottom: 165px;width: 1px;height: 30px;\"></div>\n",
       "  <div id=\"b22.bottom-a2.bottom\" style=\"position: absolute;box-sizing: border-box;border: 0.5px dashed red;left: 217.5px;right: 217.5px;top: 240px;bottom: 270px;width: 1px;height: 30px;\"></div>\n",
       "  <div id=\"a2.left-b21.left\" style=\"position: absolute;box-sizing: border-box;border: 0.5px dashed red;left: 165px;right: 195px;top: 97.5px;bottom: 97.5px;width: 30px;height: 1px;\"></div>\n",
       "  <div id=\"b21.right-a2.right\" style=\"position: absolute;box-sizing: border-box;border: 0.5px dashed red;left: 240px;right: 270px;top: 97.5px;bottom: 97.5px;width: 30px;height: 1px;\"></div>\n",
       "  <div id=\"a2.left-b22.left\" style=\"position: absolute;box-sizing: border-box;border: 0.5px dashed red;left: 165px;right: 195px;top: 202.5px;bottom: 202.5px;width: 30px;height: 1px;\"></div>\n",
       "  <div id=\"b22.right-a2.right\" style=\"position: absolute;box-sizing: border-box;border: 0.5px dashed red;left: 240px;right: 270px;top: 202.5px;bottom: 202.5px;width: 30px;height: 1px;\"></div>\n",
       "</div>"
      ],
      "text/plain": [
       "<IPython.core.display.HTML object>"
      ]
     },
     "metadata": {},
     "output_type": "display_data"
    }
   ],
   "source": [
    "html_str = str(display_view(sample_view, edge_pairs, scale=3))\n",
    "display(HTML(html_str))"
   ]
  },
  {
   "cell_type": "code",
   "execution_count": 24,
   "metadata": {},
   "outputs": [
    {
     "name": "stdout",
     "output_type": "stream",
     "text": [
      "ConstrainablePair(kind=<Kind.SPACING: 'spacing'>, anchor1=a1.right @ 45, anchor2=a2.left @ 55)\n",
      "ConstrainablePair(kind=<Kind.SPACING: 'spacing'>, anchor1=b11.bottom @ 45, anchor2=b12.top @ 55)\n",
      "ConstrainablePair(kind=<Kind.SPACING: 'spacing'>, anchor1=b21.bottom @ 45, anchor2=b22.top @ 55)\n",
      "ConstrainablePair(kind=<Kind.SPACING: 'spacing'>, anchor1=p.top @ 0, anchor2=a1.top @ 10)\n",
      "ConstrainablePair(kind=<Kind.SPACING: 'spacing'>, anchor1=p.left @ 0, anchor2=a1.left @ 10)\n",
      "ConstrainablePair(kind=<Kind.SPACING: 'spacing'>, anchor1=p.bottom @ 100, anchor2=a1.bottom @ 90)\n",
      "ConstrainablePair(kind=<Kind.SPACING: 'spacing'>, anchor1=p.top @ 0, anchor2=a2.top @ 10)\n",
      "ConstrainablePair(kind=<Kind.SPACING: 'spacing'>, anchor1=p.bottom @ 100, anchor2=a2.bottom @ 90)\n",
      "ConstrainablePair(kind=<Kind.SPACING: 'spacing'>, anchor1=p.right @ 100, anchor2=a2.right @ 90)\n",
      "ConstrainablePair(kind=<Kind.SPACING: 'spacing'>, anchor1=a1.top @ 10, anchor2=b11.top @ 20)\n",
      "ConstrainablePair(kind=<Kind.SPACING: 'spacing'>, anchor1=a1.left @ 10, anchor2=b11.left @ 20)\n",
      "ConstrainablePair(kind=<Kind.SPACING: 'spacing'>, anchor1=a1.right @ 45, anchor2=b11.right @ 35)\n",
      "ConstrainablePair(kind=<Kind.SPACING: 'spacing'>, anchor1=a1.left @ 10, anchor2=b12.left @ 20)\n",
      "ConstrainablePair(kind=<Kind.SPACING: 'spacing'>, anchor1=a1.bottom @ 90, anchor2=b12.bottom @ 80)\n",
      "ConstrainablePair(kind=<Kind.SPACING: 'spacing'>, anchor1=a1.right @ 45, anchor2=b12.right @ 35)\n",
      "ConstrainablePair(kind=<Kind.SPACING: 'spacing'>, anchor1=a2.top @ 10, anchor2=b21.top @ 20)\n",
      "ConstrainablePair(kind=<Kind.SPACING: 'spacing'>, anchor1=a2.left @ 55, anchor2=b21.left @ 65)\n",
      "ConstrainablePair(kind=<Kind.SPACING: 'spacing'>, anchor1=a2.right @ 90, anchor2=b21.right @ 80)\n",
      "ConstrainablePair(kind=<Kind.SPACING: 'spacing'>, anchor1=a2.left @ 55, anchor2=b22.left @ 65)\n",
      "ConstrainablePair(kind=<Kind.SPACING: 'spacing'>, anchor1=a2.bottom @ 90, anchor2=b22.bottom @ 80)\n",
      "ConstrainablePair(kind=<Kind.SPACING: 'spacing'>, anchor1=a2.right @ 90, anchor2=b22.right @ 80)\n",
      "ConstrainablePair(kind=<Kind.ALIGNMENT: 'alignment'>, anchor1=a1.top @ 10, anchor2=a2.top @ 10)\n",
      "ConstrainablePair(kind=<Kind.ALIGNMENT: 'alignment'>, anchor1=a1.bottom @ 90, anchor2=a2.bottom @ 90)\n",
      "ConstrainablePair(kind=<Kind.ALIGNMENT: 'alignment'>, anchor1=a2.top @ 10, anchor2=a1.top @ 10)\n",
      "ConstrainablePair(kind=<Kind.ALIGNMENT: 'alignment'>, anchor1=a2.bottom @ 90, anchor2=a1.bottom @ 90)\n",
      "ConstrainablePair(kind=<Kind.ALIGNMENT: 'alignment'>, anchor1=b11.left @ 20, anchor2=b12.left @ 20)\n",
      "ConstrainablePair(kind=<Kind.ALIGNMENT: 'alignment'>, anchor1=b11.right @ 35, anchor2=b12.right @ 35)\n",
      "ConstrainablePair(kind=<Kind.ALIGNMENT: 'alignment'>, anchor1=b12.left @ 20, anchor2=b11.left @ 20)\n",
      "ConstrainablePair(kind=<Kind.ALIGNMENT: 'alignment'>, anchor1=b12.right @ 35, anchor2=b11.right @ 35)\n",
      "ConstrainablePair(kind=<Kind.ALIGNMENT: 'alignment'>, anchor1=b21.left @ 65, anchor2=b22.left @ 65)\n",
      "ConstrainablePair(kind=<Kind.ALIGNMENT: 'alignment'>, anchor1=b21.right @ 80, anchor2=b22.right @ 80)\n",
      "ConstrainablePair(kind=<Kind.ALIGNMENT: 'alignment'>, anchor1=b22.left @ 65, anchor2=b21.left @ 65)\n",
      "ConstrainablePair(kind=<Kind.ALIGNMENT: 'alignment'>, anchor1=b22.right @ 80, anchor2=b21.right @ 80)\n"
     ]
    }
   ],
   "source": [
    "from mockdown.logic import constraint_pairs\n",
    "answer = constraint_pairs(sample_view, anchor_pairs)\n",
    "\n",
    "for pair in answer:\n",
    "    print(pair)"
   ]
  },
  {
   "cell_type": "code",
   "execution_count": 16,
   "metadata": {},
   "outputs": [
    {
     "name": "stdout",
     "output_type": "stream",
     "text": [
      "Error: no files supplied on command line.\n",
      "Daikon version 5.7.3, released November 8, 2018; http://plse.cs.washington.edu/daikon.\n",
      "Daikon invariant detector, copyright 1998-2018\n",
      "Uses the Java port of GNU getopt, copyright (c) 1998 Aaron M. Renn\n",
      "Usage:\n",
      "    java daikon.Daikon [flags...] files...\n",
      "  Each file is a declaration file or a data trace file; the file type\n",
      "  is determined by the file name (containing \".decls\" or \".dtrace\").\n",
      "  For a list of flags, see the Daikon manual, which appears in the \n",
      "  Daikon distribution and also at http://plse.cs.washington.edu/daikon/.\n",
      "\n"
     ]
    }
   ],
   "source": [
    "from asyncio import subprocess\n",
    "cmd = \"java -cp $DAIKONDIR/daikon.jar daikon.Daikon\"\n",
    "proc = await subprocess.create_subprocess_shell(cmd, stdout=subprocess.PIPE, stderr=subprocess.PIPE)\n",
    "await proc.wait()\n",
    "stdout, stderr = await proc.communicate()\n",
    "\n",
    "print(stdout.decode())"
   ]
  },
  {
   "cell_type": "code",
   "execution_count": null,
   "metadata": {},
   "outputs": [],
   "source": []
  }
 ],
 "metadata": {
  "kernelspec": {
   "display_name": "Python 3",
   "language": "python",
   "name": "python3"
  },
  "language_info": {
   "codemirror_mode": {
    "name": "ipython",
    "version": 3
   },
   "file_extension": ".py",
   "mimetype": "text/x-python",
   "name": "python",
   "nbconvert_exporter": "python",
   "pygments_lexer": "ipython3",
   "version": "3.7.3"
  }
 },
 "nbformat": 4,
 "nbformat_minor": 4
}
