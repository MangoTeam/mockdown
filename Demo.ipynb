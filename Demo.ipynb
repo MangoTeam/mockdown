{
 "cells": [
  {
   "cell_type": "code",
   "execution_count": 1,
   "metadata": {},
   "outputs": [],
   "source": [
    "%reload_ext autoreload\n",
    "%autoreload 2"
   ]
  },
  {
   "cell_type": "code",
   "execution_count": 2,
   "metadata": {},
   "outputs": [],
   "source": [
    "from IPython.core.display import display, HTML\n",
    "from IPython.lib.pretty import pprint\n",
    "from itertools import chain, tee"
   ]
  },
  {
   "cell_type": "code",
   "execution_count": 3,
   "metadata": {},
   "outputs": [],
   "source": [
    "from mockdown.model import View\n",
    "from mockdown.display.view import display_view"
   ]
  },
  {
   "cell_type": "code",
   "execution_count": 4,
   "metadata": {},
   "outputs": [],
   "source": [
    "from mockdown.model.view import ViewBuilder as V\n",
    "\n",
    "sample_view = V(\"p\", (0, 0, 100, 100), [\n",
    "    V(\"a1\", (10, 10, 45, 90), [\n",
    "        V(\"b11\", (20, 20, 35, 45)),\n",
    "        V(\"b12\", (20, 55, 35, 80))\n",
    "    ]),\n",
    "    V(\"a2\", (55, 10, 90, 90), [\n",
    "        V(\"b21\", (65, 20, 80, 45)),\n",
    "        V(\"b22\", (65, 55, 80, 80))\n",
    "    ])\n",
    "]).to_view()"
   ]
  },
  {
   "cell_type": "code",
   "execution_count": 5,
   "metadata": {},
   "outputs": [
    {
     "data": {
      "text/html": [
       "<div id=\"container\" style=\"font-size: 10px;position: relative;width:  300px;height: 300px;\">\n",
       "  <div id=\"p\" style=\"position: absolute;box-sizing: border-box;border: 1px solid black;left:   0px;right:  300px;top:    0px;bottom: 300px;height: 300px;width:  300px;\">\n",
       "    <span style=\"position: absolute;left: 5px;top: 5px;\">p</span>\n",
       "  </div>\n",
       "  <div id=\"a1\" style=\"position: absolute;box-sizing: border-box;border: 1px solid black;left:   30px;right:  135px;top:    30px;bottom: 270px;height: 240px;width:  105px;\">\n",
       "    <span style=\"position: absolute;left: 5px;top: 5px;\">a1</span>\n",
       "  </div>\n",
       "  <div id=\"b11\" style=\"position: absolute;box-sizing: border-box;border: 1px solid black;left:   60px;right:  105px;top:    60px;bottom: 135px;height: 75px;width:  45px;\">\n",
       "    <span style=\"position: absolute;left: 5px;top: 5px;\">b11</span>\n",
       "  </div>\n",
       "  <div id=\"b12\" style=\"position: absolute;box-sizing: border-box;border: 1px solid black;left:   60px;right:  105px;top:    165px;bottom: 240px;height: 75px;width:  45px;\">\n",
       "    <span style=\"position: absolute;left: 5px;top: 5px;\">b12</span>\n",
       "  </div>\n",
       "  <div id=\"a2\" style=\"position: absolute;box-sizing: border-box;border: 1px solid black;left:   165px;right:  270px;top:    30px;bottom: 270px;height: 240px;width:  105px;\">\n",
       "    <span style=\"position: absolute;left: 5px;top: 5px;\">a2</span>\n",
       "  </div>\n",
       "  <div id=\"b21\" style=\"position: absolute;box-sizing: border-box;border: 1px solid black;left:   195px;right:  240px;top:    60px;bottom: 135px;height: 75px;width:  45px;\">\n",
       "    <span style=\"position: absolute;left: 5px;top: 5px;\">b21</span>\n",
       "  </div>\n",
       "  <div id=\"b22\" style=\"position: absolute;box-sizing: border-box;border: 1px solid black;left:   195px;right:  240px;top:    165px;bottom: 240px;height: 75px;width:  45px;\">\n",
       "    <span style=\"position: absolute;left: 5px;top: 5px;\">b22</span>\n",
       "  </div>\n",
       "</div>"
      ],
      "text/plain": [
       "<IPython.core.display.HTML object>"
      ]
     },
     "metadata": {},
     "output_type": "display_data"
    }
   ],
   "source": [
    "html_str = str(display_view(sample_view, scale=3))\n",
    "display(HTML(html_str))"
   ]
  },
  {
   "cell_type": "code",
   "execution_count": 6,
   "metadata": {},
   "outputs": [],
   "source": [
    "from mockdown.visibility import visible_pairs\n",
    "\n",
    "edge_pairs = visible_pairs(sample_view, deep=True)\n",
    "anchor_pairs = [(e1.anchor, e2.anchor) for (e1, e2) in edge_pairs]"
   ]
  },
  {
   "cell_type": "code",
   "execution_count": 7,
   "metadata": {},
   "outputs": [
    {
     "data": {
      "text/html": [
       "<div id=\"container\" style=\"font-size: 10px;position: relative;width:  300px;height: 300px;\">\n",
       "  <div id=\"p\" style=\"position: absolute;box-sizing: border-box;border: 1px solid black;left:   0px;right:  300px;top:    0px;bottom: 300px;height: 300px;width:  300px;\">\n",
       "    <span style=\"position: absolute;left: 5px;top: 5px;\">p</span>\n",
       "  </div>\n",
       "  <div id=\"a1\" style=\"position: absolute;box-sizing: border-box;border: 1px solid black;left:   30px;right:  135px;top:    30px;bottom: 270px;height: 240px;width:  105px;\">\n",
       "    <span style=\"position: absolute;left: 5px;top: 5px;\">a1</span>\n",
       "  </div>\n",
       "  <div id=\"b11\" style=\"position: absolute;box-sizing: border-box;border: 1px solid black;left:   60px;right:  105px;top:    60px;bottom: 135px;height: 75px;width:  45px;\">\n",
       "    <span style=\"position: absolute;left: 5px;top: 5px;\">b11</span>\n",
       "  </div>\n",
       "  <div id=\"b12\" style=\"position: absolute;box-sizing: border-box;border: 1px solid black;left:   60px;right:  105px;top:    165px;bottom: 240px;height: 75px;width:  45px;\">\n",
       "    <span style=\"position: absolute;left: 5px;top: 5px;\">b12</span>\n",
       "  </div>\n",
       "  <div id=\"a2\" style=\"position: absolute;box-sizing: border-box;border: 1px solid black;left:   165px;right:  270px;top:    30px;bottom: 270px;height: 240px;width:  105px;\">\n",
       "    <span style=\"position: absolute;left: 5px;top: 5px;\">a2</span>\n",
       "  </div>\n",
       "  <div id=\"b21\" style=\"position: absolute;box-sizing: border-box;border: 1px solid black;left:   195px;right:  240px;top:    60px;bottom: 135px;height: 75px;width:  45px;\">\n",
       "    <span style=\"position: absolute;left: 5px;top: 5px;\">b21</span>\n",
       "  </div>\n",
       "  <div id=\"b22\" style=\"position: absolute;box-sizing: border-box;border: 1px solid black;left:   195px;right:  240px;top:    165px;bottom: 240px;height: 75px;width:  45px;\">\n",
       "    <span style=\"position: absolute;left: 5px;top: 5px;\">b22</span>\n",
       "  </div>\n",
       "  <div id=\"p.top-a1.top\" style=\"position: absolute;box-sizing: border-box;border: 0.5px dashed red;left:   82.5px;right:  82.5px;top:    0px;bottom: 30px;width:   1px;height: 30px;\"></div>\n",
       "  <div id=\"a1.bottom-p.bottom\" style=\"position: absolute;box-sizing: border-box;border: 0.5px dashed red;left:   82.5px;right:  82.5px;top:    270px;bottom: 300px;width:   1px;height: 30px;\"></div>\n",
       "  <div id=\"p.top-a2.top\" style=\"position: absolute;box-sizing: border-box;border: 0.5px dashed red;left:   217.5px;right:  217.5px;top:    0px;bottom: 30px;width:   1px;height: 30px;\"></div>\n",
       "  <div id=\"a2.bottom-p.bottom\" style=\"position: absolute;box-sizing: border-box;border: 0.5px dashed red;left:   217.5px;right:  217.5px;top:    270px;bottom: 300px;width:   1px;height: 30px;\"></div>\n",
       "  <div id=\"p.left-a1.left\" style=\"position: absolute;box-sizing: border-box;border: 0.5px dashed red;left:   0px;right:  30px;top:    150.0px;bottom: 150.0px;width:  30px;height:  1px;\"></div>\n",
       "  <div id=\"a1.right-a2.left\" style=\"position: absolute;box-sizing: border-box;border: 0.5px dashed red;left:   135px;right:  165px;top:    150.0px;bottom: 150.0px;width:  30px;height:  1px;\"></div>\n",
       "  <div id=\"a2.right-p.right\" style=\"position: absolute;box-sizing: border-box;border: 0.5px dashed red;left:   270px;right:  300px;top:    150.0px;bottom: 150.0px;width:  30px;height:  1px;\"></div>\n",
       "  <div id=\"a1.top-b11.top\" style=\"position: absolute;box-sizing: border-box;border: 0.5px dashed red;left:   82.5px;right:  82.5px;top:    30px;bottom: 60px;width:   1px;height: 30px;\"></div>\n",
       "  <div id=\"b11.bottom-b12.top\" style=\"position: absolute;box-sizing: border-box;border: 0.5px dashed red;left:   82.5px;right:  82.5px;top:    135px;bottom: 165px;width:   1px;height: 30px;\"></div>\n",
       "  <div id=\"b12.bottom-a1.bottom\" style=\"position: absolute;box-sizing: border-box;border: 0.5px dashed red;left:   82.5px;right:  82.5px;top:    240px;bottom: 270px;width:   1px;height: 30px;\"></div>\n",
       "  <div id=\"a1.left-b11.left\" style=\"position: absolute;box-sizing: border-box;border: 0.5px dashed red;left:   30px;right:  60px;top:    97.5px;bottom: 97.5px;width:  30px;height:  1px;\"></div>\n",
       "  <div id=\"b11.right-a1.right\" style=\"position: absolute;box-sizing: border-box;border: 0.5px dashed red;left:   105px;right:  135px;top:    97.5px;bottom: 97.5px;width:  30px;height:  1px;\"></div>\n",
       "  <div id=\"a1.left-b12.left\" style=\"position: absolute;box-sizing: border-box;border: 0.5px dashed red;left:   30px;right:  60px;top:    202.5px;bottom: 202.5px;width:  30px;height:  1px;\"></div>\n",
       "  <div id=\"b12.right-a1.right\" style=\"position: absolute;box-sizing: border-box;border: 0.5px dashed red;left:   105px;right:  135px;top:    202.5px;bottom: 202.5px;width:  30px;height:  1px;\"></div>\n",
       "  <div id=\"a2.top-b21.top\" style=\"position: absolute;box-sizing: border-box;border: 0.5px dashed red;left:   217.5px;right:  217.5px;top:    30px;bottom: 60px;width:   1px;height: 30px;\"></div>\n",
       "  <div id=\"b21.bottom-b22.top\" style=\"position: absolute;box-sizing: border-box;border: 0.5px dashed red;left:   217.5px;right:  217.5px;top:    135px;bottom: 165px;width:   1px;height: 30px;\"></div>\n",
       "  <div id=\"b22.bottom-a2.bottom\" style=\"position: absolute;box-sizing: border-box;border: 0.5px dashed red;left:   217.5px;right:  217.5px;top:    240px;bottom: 270px;width:   1px;height: 30px;\"></div>\n",
       "  <div id=\"a2.left-b21.left\" style=\"position: absolute;box-sizing: border-box;border: 0.5px dashed red;left:   165px;right:  195px;top:    97.5px;bottom: 97.5px;width:  30px;height:  1px;\"></div>\n",
       "  <div id=\"b21.right-a2.right\" style=\"position: absolute;box-sizing: border-box;border: 0.5px dashed red;left:   240px;right:  270px;top:    97.5px;bottom: 97.5px;width:  30px;height:  1px;\"></div>\n",
       "  <div id=\"a2.left-b22.left\" style=\"position: absolute;box-sizing: border-box;border: 0.5px dashed red;left:   165px;right:  195px;top:    202.5px;bottom: 202.5px;width:  30px;height:  1px;\"></div>\n",
       "  <div id=\"b22.right-a2.right\" style=\"position: absolute;box-sizing: border-box;border: 0.5px dashed red;left:   240px;right:  270px;top:    202.5px;bottom: 202.5px;width:  30px;height:  1px;\"></div>\n",
       "</div>"
      ],
      "text/plain": [
       "<IPython.core.display.HTML object>"
      ]
     },
     "metadata": {},
     "output_type": "display_data"
    }
   ],
   "source": [
    "html_str = str(display_view(sample_view, visible_pairs=edge_pairs, scale=3))\n",
    "display(HTML(html_str))"
   ]
  },
  {
   "cell_type": "code",
   "execution_count": 8,
   "metadata": {},
   "outputs": [],
   "source": [
    "from mockdown.logic import valid_constraints\n",
    "constraints = list(valid_constraints(sample_view, anchor_pairs))"
   ]
  },
  {
   "cell_type": "code",
   "execution_count": 9,
   "metadata": {},
   "outputs": [
    {
     "data": {
      "text/html": [
       "<div id=\"container\" style=\"font-size: 10px;position: relative;width:  500px;height: 500px;\">\n",
       "  <div id=\"p\" style=\"position: absolute;box-sizing: border-box;border: 1px solid black;left:   0px;right:  500px;top:    0px;bottom: 500px;height: 500px;width:  500px;\">\n",
       "    <span style=\"position: absolute;left: 5px;top: 5px;\">p</span>\n",
       "  </div>\n",
       "  <div id=\"a1\" style=\"position: absolute;box-sizing: border-box;border: 1px solid black;left:   50px;right:  225px;top:    50px;bottom: 450px;height: 400px;width:  175px;\">\n",
       "    <span style=\"position: absolute;left: 5px;top: 5px;\">a1</span>\n",
       "  </div>\n",
       "  <div id=\"b11\" style=\"position: absolute;box-sizing: border-box;border: 1px solid black;left:   100px;right:  175px;top:    100px;bottom: 225px;height: 125px;width:  75px;\">\n",
       "    <span style=\"position: absolute;left: 5px;top: 5px;\">b11</span>\n",
       "  </div>\n",
       "  <div id=\"b12\" style=\"position: absolute;box-sizing: border-box;border: 1px solid black;left:   100px;right:  175px;top:    275px;bottom: 400px;height: 125px;width:  75px;\">\n",
       "    <span style=\"position: absolute;left: 5px;top: 5px;\">b12</span>\n",
       "  </div>\n",
       "  <div id=\"a2\" style=\"position: absolute;box-sizing: border-box;border: 1px solid black;left:   275px;right:  450px;top:    50px;bottom: 450px;height: 400px;width:  175px;\">\n",
       "    <span style=\"position: absolute;left: 5px;top: 5px;\">a2</span>\n",
       "  </div>\n",
       "  <div id=\"b21\" style=\"position: absolute;box-sizing: border-box;border: 1px solid black;left:   325px;right:  400px;top:    100px;bottom: 225px;height: 125px;width:  75px;\">\n",
       "    <span style=\"position: absolute;left: 5px;top: 5px;\">b21</span>\n",
       "  </div>\n",
       "  <div id=\"b22\" style=\"position: absolute;box-sizing: border-box;border: 1px solid black;left:   325px;right:  400px;top:    275px;bottom: 400px;height: 125px;width:  75px;\">\n",
       "    <span style=\"position: absolute;left: 5px;top: 5px;\">b22</span>\n",
       "  </div>\n",
       "  <div id=\"a1.right-a2.left\" style=\"position: absolute;box-sizing: border-box;border: 0.5px dashed red;left:   225px;right:  275px;top:    250.0px;bottom: 250.0px;width:  50px;height:  1px;\"></div>\n",
       "  <div id=\"b11.bottom-b12.top\" style=\"position: absolute;box-sizing: border-box;border: 0.5px dashed red;left:   137.5px;right:  137.5px;top:    225px;bottom: 275px;width:   1px;height: 50px;\"></div>\n",
       "  <div id=\"b21.bottom-b22.top\" style=\"position: absolute;box-sizing: border-box;border: 0.5px dashed red;left:   362.5px;right:  362.5px;top:    225px;bottom: 275px;width:   1px;height: 50px;\"></div>\n",
       "  <div id=\"p.top-a1.top\" style=\"position: absolute;box-sizing: border-box;border: 0.5px dashed red;left:   137.5px;right:  137.5px;top:    0px;bottom: 50px;width:   1px;height: 50px;\"></div>\n",
       "  <div id=\"p.left-a1.left\" style=\"position: absolute;box-sizing: border-box;border: 0.5px dashed red;left:   0px;right:  50px;top:    250.0px;bottom: 250.0px;width:  50px;height:  1px;\"></div>\n",
       "  <div id=\"p.bottom-a1.bottom\" style=\"position: absolute;box-sizing: border-box;border: 0.5px dashed red;left:   137.5px;right:  137.5px;top:    450px;bottom: 500px;width:   1px;height: 50px;\"></div>\n",
       "  <div id=\"p.top-a2.top\" style=\"position: absolute;box-sizing: border-box;border: 0.5px dashed red;left:   362.5px;right:  362.5px;top:    0px;bottom: 50px;width:   1px;height: 50px;\"></div>\n",
       "  <div id=\"p.bottom-a2.bottom\" style=\"position: absolute;box-sizing: border-box;border: 0.5px dashed red;left:   362.5px;right:  362.5px;top:    450px;bottom: 500px;width:   1px;height: 50px;\"></div>\n",
       "  <div id=\"p.right-a2.right\" style=\"position: absolute;box-sizing: border-box;border: 0.5px dashed red;left:   450px;right:  500px;top:    250.0px;bottom: 250.0px;width:  50px;height:  1px;\"></div>\n",
       "  <div id=\"a1.top-b11.top\" style=\"position: absolute;box-sizing: border-box;border: 0.5px dashed red;left:   137.5px;right:  137.5px;top:    50px;bottom: 100px;width:   1px;height: 50px;\"></div>\n",
       "  <div id=\"a1.left-b11.left\" style=\"position: absolute;box-sizing: border-box;border: 0.5px dashed red;left:   50px;right:  100px;top:    162.5px;bottom: 162.5px;width:  50px;height:  1px;\"></div>\n",
       "  <div id=\"a1.right-b11.right\" style=\"position: absolute;box-sizing: border-box;border: 0.5px dashed red;left:   175px;right:  225px;top:    162.5px;bottom: 162.5px;width:  50px;height:  1px;\"></div>\n",
       "  <div id=\"a1.left-b12.left\" style=\"position: absolute;box-sizing: border-box;border: 0.5px dashed red;left:   50px;right:  100px;top:    337.5px;bottom: 337.5px;width:  50px;height:  1px;\"></div>\n",
       "  <div id=\"a1.bottom-b12.bottom\" style=\"position: absolute;box-sizing: border-box;border: 0.5px dashed red;left:   137.5px;right:  137.5px;top:    400px;bottom: 450px;width:   1px;height: 50px;\"></div>\n",
       "  <div id=\"a1.right-b12.right\" style=\"position: absolute;box-sizing: border-box;border: 0.5px dashed red;left:   175px;right:  225px;top:    337.5px;bottom: 337.5px;width:  50px;height:  1px;\"></div>\n",
       "  <div id=\"a2.top-b21.top\" style=\"position: absolute;box-sizing: border-box;border: 0.5px dashed red;left:   362.5px;right:  362.5px;top:    50px;bottom: 100px;width:   1px;height: 50px;\"></div>\n",
       "  <div id=\"a2.left-b21.left\" style=\"position: absolute;box-sizing: border-box;border: 0.5px dashed red;left:   275px;right:  325px;top:    162.5px;bottom: 162.5px;width:  50px;height:  1px;\"></div>\n",
       "  <div id=\"a2.right-b21.right\" style=\"position: absolute;box-sizing: border-box;border: 0.5px dashed red;left:   400px;right:  450px;top:    162.5px;bottom: 162.5px;width:  50px;height:  1px;\"></div>\n",
       "  <div id=\"a2.left-b22.left\" style=\"position: absolute;box-sizing: border-box;border: 0.5px dashed red;left:   275px;right:  325px;top:    337.5px;bottom: 337.5px;width:  50px;height:  1px;\"></div>\n",
       "  <div id=\"a2.bottom-b22.bottom\" style=\"position: absolute;box-sizing: border-box;border: 0.5px dashed red;left:   362.5px;right:  362.5px;top:    400px;bottom: 450px;width:   1px;height: 50px;\"></div>\n",
       "  <div id=\"a2.right-b22.right\" style=\"position: absolute;box-sizing: border-box;border: 0.5px dashed red;left:   400px;right:  450px;top:    337.5px;bottom: 337.5px;width:  50px;height:  1px;\"></div>\n",
       "  <div id=\"a1.top-a2.top\" style=\"position: absolute;box-sizing: border-box;border: 0.5px dashed blue;left:   50px;right:  450px;top:    50px;bottom: 50px;width:  400px;height:  1px;\"></div>\n",
       "  <div id=\"a1.bottom-a2.bottom\" style=\"position: absolute;box-sizing: border-box;border: 0.5px dashed blue;left:   50px;right:  450px;top:    450px;bottom: 450px;width:  400px;height:  1px;\"></div>\n",
       "  <div id=\"a2.top-a1.top\" style=\"position: absolute;box-sizing: border-box;border: 0.5px dashed blue;left:   50px;right:  450px;top:    50px;bottom: 50px;width:  400px;height:  1px;\"></div>\n",
       "  <div id=\"a2.bottom-a1.bottom\" style=\"position: absolute;box-sizing: border-box;border: 0.5px dashed blue;left:   50px;right:  450px;top:    450px;bottom: 450px;width:  400px;height:  1px;\"></div>\n",
       "  <div id=\"b11.left-b12.left\" style=\"position: absolute;box-sizing: border-box;border: 0.5px dashed blue;left:   100px;right:  100px;top:    100px;bottom: 400px;width:   1px;height: 300px;\"></div>\n",
       "  <div id=\"b11.right-b12.right\" style=\"position: absolute;box-sizing: border-box;border: 0.5px dashed blue;left:   175px;right:  175px;top:    100px;bottom: 400px;width:   1px;height: 300px;\"></div>\n",
       "  <div id=\"b12.left-b11.left\" style=\"position: absolute;box-sizing: border-box;border: 0.5px dashed blue;left:   100px;right:  100px;top:    100px;bottom: 400px;width:   1px;height: 300px;\"></div>\n",
       "  <div id=\"b12.right-b11.right\" style=\"position: absolute;box-sizing: border-box;border: 0.5px dashed blue;left:   175px;right:  175px;top:    100px;bottom: 400px;width:   1px;height: 300px;\"></div>\n",
       "  <div id=\"b21.left-b22.left\" style=\"position: absolute;box-sizing: border-box;border: 0.5px dashed blue;left:   325px;right:  325px;top:    100px;bottom: 400px;width:   1px;height: 300px;\"></div>\n",
       "  <div id=\"b21.right-b22.right\" style=\"position: absolute;box-sizing: border-box;border: 0.5px dashed blue;left:   400px;right:  400px;top:    100px;bottom: 400px;width:   1px;height: 300px;\"></div>\n",
       "  <div id=\"b22.left-b21.left\" style=\"position: absolute;box-sizing: border-box;border: 0.5px dashed blue;left:   325px;right:  325px;top:    100px;bottom: 400px;width:   1px;height: 300px;\"></div>\n",
       "  <div id=\"b22.right-b21.right\" style=\"position: absolute;box-sizing: border-box;border: 0.5px dashed blue;left:   400px;right:  400px;top:    100px;bottom: 400px;width:   1px;height: 300px;\"></div>\n",
       "</div>"
      ],
      "text/plain": [
       "<IPython.core.display.HTML object>"
      ]
     },
     "metadata": {},
     "output_type": "display_data"
    }
   ],
   "source": [
    "html_str = str(display_view(sample_view, constraints=constraints, scale=5))\n",
    "display(HTML(html_str))"
   ]
  },
  {
   "cell_type": "code",
   "execution_count": null,
   "metadata": {},
   "outputs": [],
   "source": []
  },
  {
   "cell_type": "code",
   "execution_count": null,
   "metadata": {},
   "outputs": [],
   "source": []
  }
 ],
 "metadata": {
  "kernelspec": {
   "display_name": "Python 3",
   "language": "python",
   "name": "python3"
  },
  "language_info": {
   "codemirror_mode": {
    "name": "ipython",
    "version": 3
   },
   "file_extension": ".py",
   "mimetype": "text/x-python",
   "name": "python",
   "nbconvert_exporter": "python",
   "pygments_lexer": "ipython3",
   "version": "3.7.3"
  }
 },
 "nbformat": 4,
 "nbformat_minor": 4
}
