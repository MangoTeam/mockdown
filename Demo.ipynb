{
 "cells": [
  {
   "cell_type": "code",
   "execution_count": null,
   "metadata": {},
   "outputs": [],
   "source": [
    "%reload_ext autoreload\n",
    "%autoreload 2"
   ]
  },
  {
   "cell_type": "code",
   "execution_count": null,
   "metadata": {},
   "outputs": [],
   "source": [
    "from IPython.core.display import display, HTML\n",
    "from IPython.lib.pretty import pprint\n",
    "from itertools import chain"
   ]
  },
  {
   "cell_type": "code",
   "execution_count": null,
   "metadata": {},
   "outputs": [],
   "source": [
    "from mockdown.view import View"
   ]
  },
  {
   "cell_type": "code",
   "execution_count": 4,
   "metadata": {},
   "outputs": [],
   "source": [
    "sample_view = View(\"p\", (0, 0, 100, 100), children=[\n",
    "    View(\"a1\", (10, 10, 45, 90), children=[\n",
    "        View(\"b11\", (20, 20, 35, 45)),\n",
    "        View(\"b12\", (20, 55, 35, 80))\n",
    "    ]),\n",
    "    View(\"a2\", (55, 10, 90, 90), children=[\n",
    "        View(\"b21\", (65, 20, 80, 45)),\n",
    "        View(\"b22\", (65, 55, 80, 80))\n",
    "    ])\n",
    "])"
   ]
  },
  {
   "cell_type": "code",
   "execution_count": 5,
   "metadata": {},
   "outputs": [
    {
     "data": {
      "text/html": [
       "<div id=\"container\" style=\"font-size: 10px;position: relative;width:  200px;height: 200px;\">\n",
       "  <div id=\"p\" style=\"position: absolute;box-sizing: border-box;border: 1px solid black;left:   0px;right:  200px;top:    0px;bottom: 200px;height: 200px;width:  200px;\">\n",
       "    <span style=\"position: absolute;left: 5px;top: 5px;\">p</span>\n",
       "  </div>\n",
       "  <div id=\"a1\" style=\"position: absolute;box-sizing: border-box;border: 1px solid black;left:   20px;right:  90px;top:    20px;bottom: 180px;height: 160px;width:  70px;\">\n",
       "    <span style=\"position: absolute;left: 5px;top: 5px;\">a1</span>\n",
       "  </div>\n",
       "  <div id=\"b11\" style=\"position: absolute;box-sizing: border-box;border: 1px solid black;left:   40px;right:  70px;top:    40px;bottom: 90px;height: 50px;width:  30px;\">\n",
       "    <span style=\"position: absolute;left: 5px;top: 5px;\">b11</span>\n",
       "  </div>\n",
       "  <div id=\"b12\" style=\"position: absolute;box-sizing: border-box;border: 1px solid black;left:   40px;right:  70px;top:    110px;bottom: 160px;height: 50px;width:  30px;\">\n",
       "    <span style=\"position: absolute;left: 5px;top: 5px;\">b12</span>\n",
       "  </div>\n",
       "  <div id=\"a2\" style=\"position: absolute;box-sizing: border-box;border: 1px solid black;left:   110px;right:  180px;top:    20px;bottom: 180px;height: 160px;width:  70px;\">\n",
       "    <span style=\"position: absolute;left: 5px;top: 5px;\">a2</span>\n",
       "  </div>\n",
       "  <div id=\"b21\" style=\"position: absolute;box-sizing: border-box;border: 1px solid black;left:   130px;right:  160px;top:    40px;bottom: 90px;height: 50px;width:  30px;\">\n",
       "    <span style=\"position: absolute;left: 5px;top: 5px;\">b21</span>\n",
       "  </div>\n",
       "  <div id=\"b22\" style=\"position: absolute;box-sizing: border-box;border: 1px solid black;left:   130px;right:  160px;top:    110px;bottom: 160px;height: 50px;width:  30px;\">\n",
       "    <span style=\"position: absolute;left: 5px;top: 5px;\">b22</span>\n",
       "  </div>\n",
       "</div>"
      ],
      "text/plain": [
       "<IPython.core.display.HTML object>"
      ]
     },
     "metadata": {},
     "output_type": "display_data"
    }
   ],
   "source": [
    "html_str = str(sample_view.to_display_html(scale=2))\n",
    "display(HTML(html_str))"
   ]
  },
  {
   "cell_type": "code",
   "execution_count": 6,
   "metadata": {},
   "outputs": [],
   "source": [
    "from mockdown.visibility import visible_pairs\n",
    "\n",
    "edge_pairs = visible_pairs(sample_view, deep=True)\n",
    "anchor_pairs = [(e1.anchor, e2.anchor) for (e1, e2) in edge_pairs]"
   ]
  },
  {
   "cell_type": "code",
   "execution_count": 7,
   "metadata": {},
   "outputs": [
    {
     "data": {
      "text/html": [
       "<div id=\"container\" style=\"font-size: 10px;position: relative;width:  200px;height: 200px;\">\n",
       "  <div id=\"p\" style=\"position: absolute;box-sizing: border-box;border: 1px solid black;left:   0px;right:  200px;top:    0px;bottom: 200px;height: 200px;width:  200px;\">\n",
       "    <span style=\"position: absolute;left: 5px;top: 5px;\">p</span>\n",
       "  </div>\n",
       "  <div id=\"a1\" style=\"position: absolute;box-sizing: border-box;border: 1px solid black;left:   20px;right:  90px;top:    20px;bottom: 180px;height: 160px;width:  70px;\">\n",
       "    <span style=\"position: absolute;left: 5px;top: 5px;\">a1</span>\n",
       "  </div>\n",
       "  <div id=\"b11\" style=\"position: absolute;box-sizing: border-box;border: 1px solid black;left:   40px;right:  70px;top:    40px;bottom: 90px;height: 50px;width:  30px;\">\n",
       "    <span style=\"position: absolute;left: 5px;top: 5px;\">b11</span>\n",
       "  </div>\n",
       "  <div id=\"b12\" style=\"position: absolute;box-sizing: border-box;border: 1px solid black;left:   40px;right:  70px;top:    110px;bottom: 160px;height: 50px;width:  30px;\">\n",
       "    <span style=\"position: absolute;left: 5px;top: 5px;\">b12</span>\n",
       "  </div>\n",
       "  <div id=\"a2\" style=\"position: absolute;box-sizing: border-box;border: 1px solid black;left:   110px;right:  180px;top:    20px;bottom: 180px;height: 160px;width:  70px;\">\n",
       "    <span style=\"position: absolute;left: 5px;top: 5px;\">a2</span>\n",
       "  </div>\n",
       "  <div id=\"b21\" style=\"position: absolute;box-sizing: border-box;border: 1px solid black;left:   130px;right:  160px;top:    40px;bottom: 90px;height: 50px;width:  30px;\">\n",
       "    <span style=\"position: absolute;left: 5px;top: 5px;\">b21</span>\n",
       "  </div>\n",
       "  <div id=\"b22\" style=\"position: absolute;box-sizing: border-box;border: 1px solid black;left:   130px;right:  160px;top:    110px;bottom: 160px;height: 50px;width:  30px;\">\n",
       "    <span style=\"position: absolute;left: 5px;top: 5px;\">b22</span>\n",
       "  </div>\n",
       "  <div id=\"p.top-a1.top\" style=\"position: absolute;box-sizing: border-box;border: 0.5px dashed red;left: 55.0px;right: 55.0px;top: 0px;bottom: 20px;width: 1px;height: 20px;\"></div>\n",
       "  <div id=\"a1.bottom-p.bottom\" style=\"position: absolute;box-sizing: border-box;border: 0.5px dashed red;left: 55.0px;right: 55.0px;top: 180px;bottom: 200px;width: 1px;height: 20px;\"></div>\n",
       "  <div id=\"p.top-a2.top\" style=\"position: absolute;box-sizing: border-box;border: 0.5px dashed red;left: 145.0px;right: 145.0px;top: 0px;bottom: 20px;width: 1px;height: 20px;\"></div>\n",
       "  <div id=\"a2.bottom-p.bottom\" style=\"position: absolute;box-sizing: border-box;border: 0.5px dashed red;left: 145.0px;right: 145.0px;top: 180px;bottom: 200px;width: 1px;height: 20px;\"></div>\n",
       "  <div id=\"p.left-a1.left\" style=\"position: absolute;box-sizing: border-box;border: 0.5px dashed red;left: 0px;right: 20px;top: 100.0px;bottom: 100.0px;width: 20px;height: 1px;\"></div>\n",
       "  <div id=\"a1.right-a2.left\" style=\"position: absolute;box-sizing: border-box;border: 0.5px dashed red;left: 90px;right: 110px;top: 100.0px;bottom: 100.0px;width: 20px;height: 1px;\"></div>\n",
       "  <div id=\"a2.right-p.right\" style=\"position: absolute;box-sizing: border-box;border: 0.5px dashed red;left: 180px;right: 200px;top: 100.0px;bottom: 100.0px;width: 20px;height: 1px;\"></div>\n",
       "  <div id=\"a1.top-b11.top\" style=\"position: absolute;box-sizing: border-box;border: 0.5px dashed red;left: 55.0px;right: 55.0px;top: 20px;bottom: 40px;width: 1px;height: 20px;\"></div>\n",
       "  <div id=\"b11.bottom-b12.top\" style=\"position: absolute;box-sizing: border-box;border: 0.5px dashed red;left: 55.0px;right: 55.0px;top: 90px;bottom: 110px;width: 1px;height: 20px;\"></div>\n",
       "  <div id=\"b12.bottom-a1.bottom\" style=\"position: absolute;box-sizing: border-box;border: 0.5px dashed red;left: 55.0px;right: 55.0px;top: 160px;bottom: 180px;width: 1px;height: 20px;\"></div>\n",
       "  <div id=\"a1.left-b11.left\" style=\"position: absolute;box-sizing: border-box;border: 0.5px dashed red;left: 20px;right: 40px;top: 65.0px;bottom: 65.0px;width: 20px;height: 1px;\"></div>\n",
       "  <div id=\"b11.right-a1.right\" style=\"position: absolute;box-sizing: border-box;border: 0.5px dashed red;left: 70px;right: 90px;top: 65.0px;bottom: 65.0px;width: 20px;height: 1px;\"></div>\n",
       "  <div id=\"a1.left-b12.left\" style=\"position: absolute;box-sizing: border-box;border: 0.5px dashed red;left: 20px;right: 40px;top: 135.0px;bottom: 135.0px;width: 20px;height: 1px;\"></div>\n",
       "  <div id=\"b12.right-a1.right\" style=\"position: absolute;box-sizing: border-box;border: 0.5px dashed red;left: 70px;right: 90px;top: 135.0px;bottom: 135.0px;width: 20px;height: 1px;\"></div>\n",
       "  <div id=\"a2.top-b21.top\" style=\"position: absolute;box-sizing: border-box;border: 0.5px dashed red;left: 145.0px;right: 145.0px;top: 20px;bottom: 40px;width: 1px;height: 20px;\"></div>\n",
       "  <div id=\"b21.bottom-b22.top\" style=\"position: absolute;box-sizing: border-box;border: 0.5px dashed red;left: 145.0px;right: 145.0px;top: 90px;bottom: 110px;width: 1px;height: 20px;\"></div>\n",
       "  <div id=\"b22.bottom-a2.bottom\" style=\"position: absolute;box-sizing: border-box;border: 0.5px dashed red;left: 145.0px;right: 145.0px;top: 160px;bottom: 180px;width: 1px;height: 20px;\"></div>\n",
       "  <div id=\"a2.left-b21.left\" style=\"position: absolute;box-sizing: border-box;border: 0.5px dashed red;left: 110px;right: 130px;top: 65.0px;bottom: 65.0px;width: 20px;height: 1px;\"></div>\n",
       "  <div id=\"b21.right-a2.right\" style=\"position: absolute;box-sizing: border-box;border: 0.5px dashed red;left: 160px;right: 180px;top: 65.0px;bottom: 65.0px;width: 20px;height: 1px;\"></div>\n",
       "  <div id=\"a2.left-b22.left\" style=\"position: absolute;box-sizing: border-box;border: 0.5px dashed red;left: 110px;right: 130px;top: 135.0px;bottom: 135.0px;width: 20px;height: 1px;\"></div>\n",
       "  <div id=\"b22.right-a2.right\" style=\"position: absolute;box-sizing: border-box;border: 0.5px dashed red;left: 160px;right: 180px;top: 135.0px;bottom: 135.0px;width: 20px;height: 1px;\"></div>\n",
       "</div>"
      ],
      "text/plain": [
       "<IPython.core.display.HTML object>"
      ]
     },
     "metadata": {},
     "output_type": "display_data"
    }
   ],
   "source": [
    "html_str = str(sample_view.to_display_html(edge_pairs, scale=2))\n",
    "display(HTML(html_str))"
   ]
  },
  {
   "cell_type": "code",
   "execution_count": 8,
   "metadata": {},
   "outputs": [
    {
     "ename": "FileNotFoundError",
     "evalue": "[Errno 2] No such file or directory: '/Users/dylan/Projects/mockdown/mockdown/logic/mockdwon.pl'",
     "output_type": "error",
     "traceback": [
      "\u001b[0;31m---------------------------------------------------------------------------\u001b[0m",
      "\u001b[0;31mFileNotFoundError\u001b[0m                         Traceback (most recent call last)",
      "\u001b[0;32m<ipython-input-8-8d1a71460cac>\u001b[0m in \u001b[0;36m<module>\u001b[0;34m\u001b[0m\n\u001b[1;32m      1\u001b[0m \u001b[0;32mfrom\u001b[0m \u001b[0mmockdown\u001b[0m\u001b[0;34m.\u001b[0m\u001b[0mlogic\u001b[0m \u001b[0;32mimport\u001b[0m \u001b[0mconstraint_pairs\u001b[0m\u001b[0;34m\u001b[0m\u001b[0;34m\u001b[0m\u001b[0m\n\u001b[0;32m----> 2\u001b[0;31m \u001b[0manswer\u001b[0m \u001b[0;34m=\u001b[0m \u001b[0mconstraint_pairs\u001b[0m\u001b[0;34m(\u001b[0m\u001b[0msample_view\u001b[0m\u001b[0;34m,\u001b[0m \u001b[0manchor_pairs\u001b[0m\u001b[0;34m)\u001b[0m\u001b[0;34m\u001b[0m\u001b[0;34m\u001b[0m\u001b[0m\n\u001b[0m\u001b[1;32m      3\u001b[0m \u001b[0;34m\u001b[0m\u001b[0m\n\u001b[1;32m      4\u001b[0m \u001b[0;32mfor\u001b[0m \u001b[0mspacing\u001b[0m \u001b[0;32min\u001b[0m \u001b[0manswer\u001b[0m\u001b[0;34m:\u001b[0m\u001b[0;34m\u001b[0m\u001b[0;34m\u001b[0m\u001b[0m\n\u001b[1;32m      5\u001b[0m     \u001b[0mprint\u001b[0m\u001b[0;34m(\u001b[0m\u001b[0;34mf\"{spacing['V']}.{spacing['A']} to {spacing['W']}.{spacing['B']}\"\u001b[0m\u001b[0;34m)\u001b[0m\u001b[0;34m\u001b[0m\u001b[0;34m\u001b[0m\u001b[0m\n",
      "\u001b[0;32m~/Projects/mockdown/mockdown/logic/__init__.py\u001b[0m in \u001b[0;36mconstraint_pairs\u001b[0;34m(root, visible_pairs)\u001b[0m\n\u001b[1;32m     28\u001b[0m         \u001b[0;31m# Load static terms/predicates.\u001b[0m\u001b[0;34m\u001b[0m\u001b[0;34m\u001b[0m\u001b[0;34m\u001b[0m\u001b[0m\n\u001b[1;32m     29\u001b[0m         \u001b[0mprolog\u001b[0m \u001b[0;34m=\u001b[0m \u001b[0mProlog\u001b[0m\u001b[0;34m(\u001b[0m\u001b[0;34m)\u001b[0m\u001b[0;34m\u001b[0m\u001b[0;34m\u001b[0m\u001b[0m\n\u001b[0;32m---> 30\u001b[0;31m         \u001b[0;32mwith\u001b[0m \u001b[0mresources\u001b[0m\u001b[0;34m.\u001b[0m\u001b[0mpath\u001b[0m\u001b[0;34m(\u001b[0m\u001b[0m__package__\u001b[0m\u001b[0;34m,\u001b[0m \u001b[0;34m'mockdwon.pl'\u001b[0m\u001b[0;34m)\u001b[0m \u001b[0;32mas\u001b[0m \u001b[0mpath\u001b[0m\u001b[0;34m:\u001b[0m\u001b[0;34m\u001b[0m\u001b[0;34m\u001b[0m\u001b[0m\n\u001b[0m\u001b[1;32m     31\u001b[0m             \u001b[0mprolog\u001b[0m\u001b[0;34m.\u001b[0m\u001b[0mconsult\u001b[0m\u001b[0;34m(\u001b[0m\u001b[0mpath\u001b[0m\u001b[0;34m)\u001b[0m\u001b[0;34m\u001b[0m\u001b[0;34m\u001b[0m\u001b[0m\n\u001b[1;32m     32\u001b[0m \u001b[0;34m\u001b[0m\u001b[0m\n",
      "\u001b[0;32m/usr/local/Cellar/python/3.7.3/Frameworks/Python.framework/Versions/3.7/lib/python3.7/contextlib.py\u001b[0m in \u001b[0;36m__enter__\u001b[0;34m(self)\u001b[0m\n\u001b[1;32m    110\u001b[0m         \u001b[0;32mdel\u001b[0m \u001b[0mself\u001b[0m\u001b[0;34m.\u001b[0m\u001b[0margs\u001b[0m\u001b[0;34m,\u001b[0m \u001b[0mself\u001b[0m\u001b[0;34m.\u001b[0m\u001b[0mkwds\u001b[0m\u001b[0;34m,\u001b[0m \u001b[0mself\u001b[0m\u001b[0;34m.\u001b[0m\u001b[0mfunc\u001b[0m\u001b[0;34m\u001b[0m\u001b[0;34m\u001b[0m\u001b[0m\n\u001b[1;32m    111\u001b[0m         \u001b[0;32mtry\u001b[0m\u001b[0;34m:\u001b[0m\u001b[0;34m\u001b[0m\u001b[0;34m\u001b[0m\u001b[0m\n\u001b[0;32m--> 112\u001b[0;31m             \u001b[0;32mreturn\u001b[0m \u001b[0mnext\u001b[0m\u001b[0;34m(\u001b[0m\u001b[0mself\u001b[0m\u001b[0;34m.\u001b[0m\u001b[0mgen\u001b[0m\u001b[0;34m)\u001b[0m\u001b[0;34m\u001b[0m\u001b[0;34m\u001b[0m\u001b[0m\n\u001b[0m\u001b[1;32m    113\u001b[0m         \u001b[0;32mexcept\u001b[0m \u001b[0mStopIteration\u001b[0m\u001b[0;34m:\u001b[0m\u001b[0;34m\u001b[0m\u001b[0;34m\u001b[0m\u001b[0m\n\u001b[1;32m    114\u001b[0m             \u001b[0;32mraise\u001b[0m \u001b[0mRuntimeError\u001b[0m\u001b[0;34m(\u001b[0m\u001b[0;34m\"generator didn't yield\"\u001b[0m\u001b[0;34m)\u001b[0m \u001b[0;32mfrom\u001b[0m \u001b[0;32mNone\u001b[0m\u001b[0;34m\u001b[0m\u001b[0;34m\u001b[0m\u001b[0m\n",
      "\u001b[0;32m~/.local/share/virtualenvs/mockdown-jiwl8_sc/lib/python3.7/importlib/resources.py\u001b[0m in \u001b[0;36mpath\u001b[0;34m(package, resource)\u001b[0m\n\u001b[1;32m    199\u001b[0m         \u001b[0;32myield\u001b[0m \u001b[0mfile_path\u001b[0m\u001b[0;34m\u001b[0m\u001b[0;34m\u001b[0m\u001b[0m\n\u001b[1;32m    200\u001b[0m     \u001b[0;32melse\u001b[0m\u001b[0;34m:\u001b[0m\u001b[0;34m\u001b[0m\u001b[0;34m\u001b[0m\u001b[0m\n\u001b[0;32m--> 201\u001b[0;31m         \u001b[0;32mwith\u001b[0m \u001b[0mopen_binary\u001b[0m\u001b[0;34m(\u001b[0m\u001b[0mpackage\u001b[0m\u001b[0;34m,\u001b[0m \u001b[0mresource\u001b[0m\u001b[0;34m)\u001b[0m \u001b[0;32mas\u001b[0m \u001b[0mfp\u001b[0m\u001b[0;34m:\u001b[0m\u001b[0;34m\u001b[0m\u001b[0;34m\u001b[0m\u001b[0m\n\u001b[0m\u001b[1;32m    202\u001b[0m             \u001b[0mdata\u001b[0m \u001b[0;34m=\u001b[0m \u001b[0mfp\u001b[0m\u001b[0;34m.\u001b[0m\u001b[0mread\u001b[0m\u001b[0;34m(\u001b[0m\u001b[0;34m)\u001b[0m\u001b[0;34m\u001b[0m\u001b[0;34m\u001b[0m\u001b[0m\n\u001b[1;32m    203\u001b[0m         \u001b[0;31m# Not using tempfile.NamedTemporaryFile as it leads to deeper 'try'\u001b[0m\u001b[0;34m\u001b[0m\u001b[0;34m\u001b[0m\u001b[0;34m\u001b[0m\u001b[0m\n",
      "\u001b[0;32m~/.local/share/virtualenvs/mockdown-jiwl8_sc/lib/python3.7/importlib/resources.py\u001b[0m in \u001b[0;36mopen_binary\u001b[0;34m(package, resource)\u001b[0m\n\u001b[1;32m     89\u001b[0m     \u001b[0mreader\u001b[0m \u001b[0;34m=\u001b[0m \u001b[0m_get_resource_reader\u001b[0m\u001b[0;34m(\u001b[0m\u001b[0mpackage\u001b[0m\u001b[0;34m)\u001b[0m\u001b[0;34m\u001b[0m\u001b[0;34m\u001b[0m\u001b[0m\n\u001b[1;32m     90\u001b[0m     \u001b[0;32mif\u001b[0m \u001b[0mreader\u001b[0m \u001b[0;32mis\u001b[0m \u001b[0;32mnot\u001b[0m \u001b[0;32mNone\u001b[0m\u001b[0;34m:\u001b[0m\u001b[0;34m\u001b[0m\u001b[0;34m\u001b[0m\u001b[0m\n\u001b[0;32m---> 91\u001b[0;31m         \u001b[0;32mreturn\u001b[0m \u001b[0mreader\u001b[0m\u001b[0;34m.\u001b[0m\u001b[0mopen_resource\u001b[0m\u001b[0;34m(\u001b[0m\u001b[0mresource\u001b[0m\u001b[0;34m)\u001b[0m\u001b[0;34m\u001b[0m\u001b[0;34m\u001b[0m\u001b[0m\n\u001b[0m\u001b[1;32m     92\u001b[0m     \u001b[0m_check_location\u001b[0m\u001b[0;34m(\u001b[0m\u001b[0mpackage\u001b[0m\u001b[0;34m)\u001b[0m\u001b[0;34m\u001b[0m\u001b[0;34m\u001b[0m\u001b[0m\n\u001b[1;32m     93\u001b[0m     \u001b[0mabsolute_package_path\u001b[0m \u001b[0;34m=\u001b[0m \u001b[0mos\u001b[0m\u001b[0;34m.\u001b[0m\u001b[0mpath\u001b[0m\u001b[0;34m.\u001b[0m\u001b[0mabspath\u001b[0m\u001b[0;34m(\u001b[0m\u001b[0mpackage\u001b[0m\u001b[0;34m.\u001b[0m\u001b[0m__spec__\u001b[0m\u001b[0;34m.\u001b[0m\u001b[0morigin\u001b[0m\u001b[0;34m)\u001b[0m\u001b[0;34m\u001b[0m\u001b[0;34m\u001b[0m\u001b[0m\n",
      "\u001b[0;32m~/.local/share/virtualenvs/mockdown-jiwl8_sc/lib/python3.7/importlib/_bootstrap_external.py\u001b[0m in \u001b[0;36mopen_resource\u001b[0;34m(self, resource)\u001b[0m\n",
      "\u001b[0;31mFileNotFoundError\u001b[0m: [Errno 2] No such file or directory: '/Users/dylan/Projects/mockdown/mockdown/logic/mockdwon.pl'"
     ]
    }
   ],
   "source": [
    "from mockdown.logic import constraint_pairs\n",
    "answer = constraint_pairs(sample_view, anchor_pairs)\n",
    "\n",
    "for spacing in answer:\n",
    "    print(f\"{spacing['V']}.{spacing['A']} to {spacing['W']}.{spacing['B']}\")"
   ]
  },
  {
   "cell_type": "code",
   "execution_count": null,
   "metadata": {},
   "outputs": [],
   "source": []
  },
  {
   "cell_type": "code",
   "execution_count": null,
   "metadata": {},
   "outputs": [],
   "source": []
  }
 ],
 "metadata": {
  "kernelspec": {
   "display_name": "Python 3",
   "language": "python",
   "name": "python3"
  },
  "language_info": {
   "codemirror_mode": {
    "name": "ipython",
    "version": 3
   },
   "file_extension": ".py",
   "mimetype": "text/x-python",
   "name": "python",
   "nbconvert_exporter": "python",
   "pygments_lexer": "ipython3",
   "version": "3.7.3"
  }
 },
 "nbformat": 4,
 "nbformat_minor": 4
}
