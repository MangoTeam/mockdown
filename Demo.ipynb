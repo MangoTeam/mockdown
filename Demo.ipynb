{
 "cells": [
  {
   "cell_type": "code",
   "execution_count": 1,
   "metadata": {},
   "outputs": [],
   "source": [
    "%reload_ext autoreload\n",
    "%autoreload 2"
   ]
  },
  {
   "cell_type": "code",
   "execution_count": 2,
   "metadata": {},
   "outputs": [],
   "source": [
    "from IPython.core.display import display, HTML\n",
    "from IPython.lib.pretty import pprint\n",
    "from itertools import chain, tee"
   ]
  },
  {
   "cell_type": "code",
   "execution_count": 3,
   "metadata": {},
   "outputs": [],
   "source": [
    "from mockdown.view import View\n",
    "from mockdown.display.view import display_view"
   ]
  },
  {
   "cell_type": "code",
   "execution_count": 4,
   "metadata": {},
   "outputs": [],
   "source": [
    "sample_view = View(\"p\", (0, 0, 100, 100), children=[\n",
    "    View(\"a1\", (10, 10, 45, 90), children=[\n",
    "        View(\"b11\", (20, 20, 35, 45)),\n",
    "        View(\"b12\", (20, 55, 35, 80))\n",
    "    ]),\n",
    "    View(\"a2\", (55, 10, 90, 90), children=[\n",
    "        View(\"b21\", (65, 20, 80, 45)),\n",
    "        View(\"b22\", (65, 55, 80, 80))\n",
    "    ])\n",
    "])"
   ]
  },
  {
   "cell_type": "code",
   "execution_count": 5,
   "metadata": {},
   "outputs": [
    {
     "data": {
      "text/html": [
       "<div id=\"container\" style=\"font-size: 10px;position: relative;width:  500px;height: 500px;\">\n",
       "  <div id=\"p\" style=\"position: absolute;box-sizing: border-box;border: 1px solid black;left:   0px;right:  500px;top:    0px;bottom: 500px;height: 500px;width:  500px;\">\n",
       "    <span style=\"position: absolute;left: 5px;top: 5px;\">p</span>\n",
       "  </div>\n",
       "  <div id=\"a1\" style=\"position: absolute;box-sizing: border-box;border: 1px solid black;left:   50px;right:  225px;top:    50px;bottom: 450px;height: 400px;width:  175px;\">\n",
       "    <span style=\"position: absolute;left: 5px;top: 5px;\">a1</span>\n",
       "  </div>\n",
       "  <div id=\"b11\" style=\"position: absolute;box-sizing: border-box;border: 1px solid black;left:   100px;right:  175px;top:    100px;bottom: 225px;height: 125px;width:  75px;\">\n",
       "    <span style=\"position: absolute;left: 5px;top: 5px;\">b11</span>\n",
       "  </div>\n",
       "  <div id=\"b12\" style=\"position: absolute;box-sizing: border-box;border: 1px solid black;left:   100px;right:  175px;top:    275px;bottom: 400px;height: 125px;width:  75px;\">\n",
       "    <span style=\"position: absolute;left: 5px;top: 5px;\">b12</span>\n",
       "  </div>\n",
       "  <div id=\"a2\" style=\"position: absolute;box-sizing: border-box;border: 1px solid black;left:   275px;right:  450px;top:    50px;bottom: 450px;height: 400px;width:  175px;\">\n",
       "    <span style=\"position: absolute;left: 5px;top: 5px;\">a2</span>\n",
       "  </div>\n",
       "  <div id=\"b21\" style=\"position: absolute;box-sizing: border-box;border: 1px solid black;left:   325px;right:  400px;top:    100px;bottom: 225px;height: 125px;width:  75px;\">\n",
       "    <span style=\"position: absolute;left: 5px;top: 5px;\">b21</span>\n",
       "  </div>\n",
       "  <div id=\"b22\" style=\"position: absolute;box-sizing: border-box;border: 1px solid black;left:   325px;right:  400px;top:    275px;bottom: 400px;height: 125px;width:  75px;\">\n",
       "    <span style=\"position: absolute;left: 5px;top: 5px;\">b22</span>\n",
       "  </div>\n",
       "</div>"
      ],
      "text/plain": [
       "<IPython.core.display.HTML object>"
      ]
     },
     "metadata": {},
     "output_type": "display_data"
    }
   ],
   "source": [
    "html_str = str(display_view(sample_view, scale=5))\n",
    "display(HTML(html_str))"
   ]
  },
  {
   "cell_type": "code",
   "execution_count": 6,
   "metadata": {},
   "outputs": [],
   "source": [
    "from mockdown.visibility import visible_pairs\n",
    "\n",
    "edge_pairs = visible_pairs(sample_view, deep=True)\n",
    "anchor_pairs = [(e1.anchor, e2.anchor) for (e1, e2) in edge_pairs]"
   ]
  },
  {
   "cell_type": "code",
   "execution_count": 7,
   "metadata": {},
   "outputs": [
    {
     "data": {
      "text/html": [
       "<div id=\"container\" style=\"font-size: 10px;position: relative;width:  500px;height: 500px;\">\n",
       "  <div id=\"p\" style=\"position: absolute;box-sizing: border-box;border: 1px solid black;left:   0px;right:  500px;top:    0px;bottom: 500px;height: 500px;width:  500px;\">\n",
       "    <span style=\"position: absolute;left: 5px;top: 5px;\">p</span>\n",
       "  </div>\n",
       "  <div id=\"a1\" style=\"position: absolute;box-sizing: border-box;border: 1px solid black;left:   50px;right:  225px;top:    50px;bottom: 450px;height: 400px;width:  175px;\">\n",
       "    <span style=\"position: absolute;left: 5px;top: 5px;\">a1</span>\n",
       "  </div>\n",
       "  <div id=\"b11\" style=\"position: absolute;box-sizing: border-box;border: 1px solid black;left:   100px;right:  175px;top:    100px;bottom: 225px;height: 125px;width:  75px;\">\n",
       "    <span style=\"position: absolute;left: 5px;top: 5px;\">b11</span>\n",
       "  </div>\n",
       "  <div id=\"b12\" style=\"position: absolute;box-sizing: border-box;border: 1px solid black;left:   100px;right:  175px;top:    275px;bottom: 400px;height: 125px;width:  75px;\">\n",
       "    <span style=\"position: absolute;left: 5px;top: 5px;\">b12</span>\n",
       "  </div>\n",
       "  <div id=\"a2\" style=\"position: absolute;box-sizing: border-box;border: 1px solid black;left:   275px;right:  450px;top:    50px;bottom: 450px;height: 400px;width:  175px;\">\n",
       "    <span style=\"position: absolute;left: 5px;top: 5px;\">a2</span>\n",
       "  </div>\n",
       "  <div id=\"b21\" style=\"position: absolute;box-sizing: border-box;border: 1px solid black;left:   325px;right:  400px;top:    100px;bottom: 225px;height: 125px;width:  75px;\">\n",
       "    <span style=\"position: absolute;left: 5px;top: 5px;\">b21</span>\n",
       "  </div>\n",
       "  <div id=\"b22\" style=\"position: absolute;box-sizing: border-box;border: 1px solid black;left:   325px;right:  400px;top:    275px;bottom: 400px;height: 125px;width:  75px;\">\n",
       "    <span style=\"position: absolute;left: 5px;top: 5px;\">b22</span>\n",
       "  </div>\n",
       "  <div id=\"p.top-a1.top\" style=\"position: absolute;box-sizing: border-box;border: 0.5px dashed red;left: 137.5px;right: 137.5px;top: 0px;bottom: 50px;width: 1px;height: 50px;\"></div>\n",
       "  <div id=\"a1.bottom-p.bottom\" style=\"position: absolute;box-sizing: border-box;border: 0.5px dashed red;left: 137.5px;right: 137.5px;top: 450px;bottom: 500px;width: 1px;height: 50px;\"></div>\n",
       "  <div id=\"p.top-a2.top\" style=\"position: absolute;box-sizing: border-box;border: 0.5px dashed red;left: 362.5px;right: 362.5px;top: 0px;bottom: 50px;width: 1px;height: 50px;\"></div>\n",
       "  <div id=\"a2.bottom-p.bottom\" style=\"position: absolute;box-sizing: border-box;border: 0.5px dashed red;left: 362.5px;right: 362.5px;top: 450px;bottom: 500px;width: 1px;height: 50px;\"></div>\n",
       "  <div id=\"p.left-a1.left\" style=\"position: absolute;box-sizing: border-box;border: 0.5px dashed red;left: 0px;right: 50px;top: 250.0px;bottom: 250.0px;width: 50px;height: 1px;\"></div>\n",
       "  <div id=\"a1.right-a2.left\" style=\"position: absolute;box-sizing: border-box;border: 0.5px dashed red;left: 225px;right: 275px;top: 250.0px;bottom: 250.0px;width: 50px;height: 1px;\"></div>\n",
       "  <div id=\"a2.right-p.right\" style=\"position: absolute;box-sizing: border-box;border: 0.5px dashed red;left: 450px;right: 500px;top: 250.0px;bottom: 250.0px;width: 50px;height: 1px;\"></div>\n",
       "  <div id=\"a1.top-b11.top\" style=\"position: absolute;box-sizing: border-box;border: 0.5px dashed red;left: 137.5px;right: 137.5px;top: 50px;bottom: 100px;width: 1px;height: 50px;\"></div>\n",
       "  <div id=\"b11.bottom-b12.top\" style=\"position: absolute;box-sizing: border-box;border: 0.5px dashed red;left: 137.5px;right: 137.5px;top: 225px;bottom: 275px;width: 1px;height: 50px;\"></div>\n",
       "  <div id=\"b12.bottom-a1.bottom\" style=\"position: absolute;box-sizing: border-box;border: 0.5px dashed red;left: 137.5px;right: 137.5px;top: 400px;bottom: 450px;width: 1px;height: 50px;\"></div>\n",
       "  <div id=\"a1.left-b11.left\" style=\"position: absolute;box-sizing: border-box;border: 0.5px dashed red;left: 50px;right: 100px;top: 162.5px;bottom: 162.5px;width: 50px;height: 1px;\"></div>\n",
       "  <div id=\"b11.right-a1.right\" style=\"position: absolute;box-sizing: border-box;border: 0.5px dashed red;left: 175px;right: 225px;top: 162.5px;bottom: 162.5px;width: 50px;height: 1px;\"></div>\n",
       "  <div id=\"a1.left-b12.left\" style=\"position: absolute;box-sizing: border-box;border: 0.5px dashed red;left: 50px;right: 100px;top: 337.5px;bottom: 337.5px;width: 50px;height: 1px;\"></div>\n",
       "  <div id=\"b12.right-a1.right\" style=\"position: absolute;box-sizing: border-box;border: 0.5px dashed red;left: 175px;right: 225px;top: 337.5px;bottom: 337.5px;width: 50px;height: 1px;\"></div>\n",
       "  <div id=\"a2.top-b21.top\" style=\"position: absolute;box-sizing: border-box;border: 0.5px dashed red;left: 362.5px;right: 362.5px;top: 50px;bottom: 100px;width: 1px;height: 50px;\"></div>\n",
       "  <div id=\"b21.bottom-b22.top\" style=\"position: absolute;box-sizing: border-box;border: 0.5px dashed red;left: 362.5px;right: 362.5px;top: 225px;bottom: 275px;width: 1px;height: 50px;\"></div>\n",
       "  <div id=\"b22.bottom-a2.bottom\" style=\"position: absolute;box-sizing: border-box;border: 0.5px dashed red;left: 362.5px;right: 362.5px;top: 400px;bottom: 450px;width: 1px;height: 50px;\"></div>\n",
       "  <div id=\"a2.left-b21.left\" style=\"position: absolute;box-sizing: border-box;border: 0.5px dashed red;left: 275px;right: 325px;top: 162.5px;bottom: 162.5px;width: 50px;height: 1px;\"></div>\n",
       "  <div id=\"b21.right-a2.right\" style=\"position: absolute;box-sizing: border-box;border: 0.5px dashed red;left: 400px;right: 450px;top: 162.5px;bottom: 162.5px;width: 50px;height: 1px;\"></div>\n",
       "  <div id=\"a2.left-b22.left\" style=\"position: absolute;box-sizing: border-box;border: 0.5px dashed red;left: 275px;right: 325px;top: 337.5px;bottom: 337.5px;width: 50px;height: 1px;\"></div>\n",
       "  <div id=\"b22.right-a2.right\" style=\"position: absolute;box-sizing: border-box;border: 0.5px dashed red;left: 400px;right: 450px;top: 337.5px;bottom: 337.5px;width: 50px;height: 1px;\"></div>\n",
       "</div>"
      ],
      "text/plain": [
       "<IPython.core.display.HTML object>"
      ]
     },
     "metadata": {},
     "output_type": "display_data"
    }
   ],
   "source": [
    "html_str = str(display_view(sample_view, edge_pairs, scale=5))\n",
    "display(HTML(html_str))"
   ]
  },
  {
   "cell_type": "code",
   "execution_count": 8,
   "metadata": {},
   "outputs": [],
   "source": [
    "from mockdown.logic import constrainable_pairs\n",
    "pairs = list(constrainable_pairs(sample_view, anchor_pairs))\n",
    "\n",
    "spacings = list(filter(lambda p: p.kind == 'spacing', pairs))\n",
    "alignments = list(filter(lambda p: p.kind == 'alignment', pairs))"
   ]
  },
  {
   "cell_type": "code",
   "execution_count": 9,
   "metadata": {},
   "outputs": [
    {
     "name": "stdout",
     "output_type": "stream",
     "text": [
      "decl-version 2.0\n",
      "input-language data\n",
      "\n",
      "ppt sample_view.data:::POINT\n",
      "ppt-type point\n",
      "  variable a1.right_0\n",
      "    var-kind variable\n",
      "    dec-type spacing\n",
      "   \n",
      "...\n",
      "\n",
      "sample_view.data:::POINT\n",
      "a1.right_0\n",
      "45\n",
      "1\n",
      "a2.left_0\n",
      "55\n",
      "1\n",
      "b11.bottom_1\n",
      "45\n",
      "1\n",
      "b12.to\n",
      "...\n",
      "\n"
     ]
    }
   ],
   "source": [
    "from mockdown.daikon import generate_decls, generate_dtrace\n",
    "\n",
    "decls_text = generate_decls(\"sample_view\", sample_view, spacings)\n",
    "dtrace_text = generate_dtrace(\"sample_view\", sample_view, spacings)\n",
    "\n",
    "print(decls_text[0:150] + \"\\n...\\n\")\n",
    "print(dtrace_text[0:80] + \"\\n...\\n\")"
   ]
  },
  {
   "cell_type": "code",
   "execution_count": 10,
   "metadata": {},
   "outputs": [
    {
     "name": "stdout",
     "output_type": "stream",
     "text": [
      "java -cp /usr/local/opt/daikon/daikon-src/daikon.jar:/Users/dylan/Projects/Pipeline/MockdownInvariants/out/artifacts/mockdown_inv/mockdown-inv.jar:/Users/dylan/Projects/Pipeline/MockdownInvariants/lib/* daikon.Daikon --nohierarchy --disable-all-invariants --user-defined-invariant edu.ucsd.mockdown.inv.PositionSpacingUpper --config_option edu.ucsd.mockdown.inv.PositionSpacingUpper.enabled=true /var/folders/nd/jzx57n691vddfstcxf4kf8c80000gn/T/mockdown-j8wz_84p.decls /var/folders/nd/jzx57n691vddfstcxf4kf8c80000gn/T/mockdown-b9r6fbh9.dtrace\n",
      "Daikon version 5.7.3, released November 8, 2018; http://plse.cs.washington.edu/daikon.\n",
      "(read 1 decls file) files .\n",
      "Processing trace data; reading 1 dtrace file:\n",
      "\n",
      "===========================================================================\n",
      "sample_view.data:::POINT\n",
      "a2.left_0 >= a1.right_0 + 10\n",
      "b12.top_1 >= b11.bottom_1 + 10\n",
      "b22.top_2 >= b21.bottom_2 + 10\n",
      "a1.top_3 >= p.top_3 + 10\n",
      "a1.left_4 >= p.left_4 + 10\n",
      "a1.bottom_5 >= p.bottom_5 + -10\n",
      "a2.top_6 >= p.top_6 + 10\n",
      "a2.bottom_7 >= p.bottom_7 + -10\n",
      "a2.right_8 >= p.right_8 + -10\n",
      "b11.top_9 >= a1.top_9 + 10\n",
      "b11.left_10 >= a1.left_10 + 10\n",
      "b11.right_11 >= a1.right_11 + -10\n",
      "b12.left_12 >= a1.left_12 + 10\n",
      "b12.bottom_13 >= a1.bottom_13 + -10\n",
      "b12.right_14 >= a1.right_14 + -10\n",
      "b21.top_15 >= a2.top_15 + 10\n",
      "b21.left_16 >= a2.left_16 + 10\n",
      "b21.right_17 >= a2.right_17 + -10\n",
      "b22.left_18 >= a2.left_18 + 10\n",
      "b22.bottom_19 >= a2.bottom_19 + -10\n",
      "b22.right_20 >= a2.right_20 + -10\n",
      "Exiting Daikon.\n",
      "\n"
     ]
    }
   ],
   "source": [
    "DAIKONJAR=\"/usr/local/opt/daikon/daikon-src/daikon.jar\"\n",
    "INVARIANTJAR=\"/Users/dylan/Projects/Pipeline/MockdownInvariants/out/artifacts/mockdown_inv/mockdown-inv.jar\"\n",
    "LIBJARS=\"/Users/dylan/Projects/Pipeline/MockdownInvariants/lib/*\"\n",
    "\n",
    "from asyncio import subprocess\n",
    "from tempfile import NamedTemporaryFile\n",
    "from shlex import quote\n",
    "\n",
    "def mk_tmp(suffix: str):\n",
    "    return NamedTemporaryFile(mode='w+', \n",
    "                              prefix=\"mockdown-\",\n",
    "                              suffix=suffix)\n",
    "\n",
    "with mk_tmp('.decls') as decls_file, mk_tmp('.dtrace') as dtrace_file:\n",
    "    decls_file.write(decls_text)\n",
    "    decls_file.flush()\n",
    "    \n",
    "    dtrace_file.write(dtrace_text)\n",
    "    dtrace_file.flush()\n",
    "\n",
    "    cmd = (\n",
    "        f\"java -cp {DAIKONJAR}:{INVARIANTJAR}:{LIBJARS} daikon.Daikon\"\n",
    "        \" --nohierarchy\"\n",
    "        \" --disable-all-invariants\"\n",
    "        \" --user-defined-invariant edu.ucsd.mockdown.inv.PositionSpacingUpper\"\n",
    "        \" --config_option edu.ucsd.mockdown.inv.PositionSpacingUpper.enabled=true\"\n",
    "        f\" {quote(decls_file.name)}\"\n",
    "        f\" {quote(dtrace_file.name)}\"\n",
    "    )\n",
    "    \n",
    "    print(cmd)\n",
    "    \n",
    "    proc = await subprocess.create_subprocess_shell(cmd, stdout=subprocess.PIPE, stderr=subprocess.PIPE)\n",
    "    await proc.wait()\n",
    "    stdout, stderr = await proc.communicate()\n",
    "\n",
    "    print(stdout.decode())"
   ]
  },
  {
   "cell_type": "code",
   "execution_count": null,
   "metadata": {},
   "outputs": [],
   "source": []
  }
 ],
 "metadata": {
  "kernelspec": {
   "display_name": "Python 3",
   "language": "python",
   "name": "python3"
  },
  "language_info": {
   "codemirror_mode": {
    "name": "ipython",
    "version": 3
   },
   "file_extension": ".py",
   "mimetype": "text/x-python",
   "name": "python",
   "nbconvert_exporter": "python",
   "pygments_lexer": "ipython3",
   "version": "3.7.3"
  }
 },
 "nbformat": 4,
 "nbformat_minor": 4
}
